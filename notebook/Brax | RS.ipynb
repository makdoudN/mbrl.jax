{
 "cells": [
  {
   "cell_type": "code",
   "execution_count": 1,
   "id": "f55618fe-dc6f-4b10-b0f7-debe4d7fce29",
   "metadata": {},
   "outputs": [],
   "source": [
    "import jax\n",
    "import tax\n",
    "import clu\n",
    "import tqdm\n",
    "import haiku as hk\n",
    "import numpy as np\n",
    "import collections \n",
    "import jax.numpy as jnp\n",
    "import matplotlib as mpl\n",
    "import matplotlib.pyplot as plt\n",
    "import mbrl\n",
    "import brax\n",
    "import tqdm\n",
    "import functools\n",
    "\n",
    "from brax import envs\n",
    "from brax.io import html\n",
    "from jax import jit\n",
    "from functools import partial\n",
    "from mbrl.algs.rs import trajectory_search, forecast, score, plan\n",
    "from IPython.display import HTML, IFrame, display, clear_output \n",
    "\n",
    "def visualize(sys, qps):\n",
    "  \"\"\"Renders a 3D visualization of the environment.\"\"\"\n",
    "  return HTML(html.render(sys, qps))\n",
    "\n",
    "\n",
    "tax.set_platform('cpu')\n",
    "\n",
    "rng = jax.random.PRNGKey(42)\n"
   ]
  },
  {
   "cell_type": "code",
   "execution_count": 2,
   "id": "7f13fecc-8ff8-49cb-93c3-46c2ed0f3efa",
   "metadata": {},
   "outputs": [],
   "source": [
    "name = 'halfcheetah'\n",
    "envf = envs.create_fn(name)\n",
    "env = envf()\n",
    "env_state = env.reset(rng=rng)\n",
    "action_size = env.action_size\n",
    "observation_size = env.observation_size"
   ]
  },
  {
   "cell_type": "code",
   "execution_count": 3,
   "id": "56d2d6cb-c818-4b02-9419-f8e1cd06c78f",
   "metadata": {},
   "outputs": [],
   "source": [
    "dummy_action = jax.random.uniform(rng, (action_size,), minval=-1, maxval=1)"
   ]
  },
  {
   "cell_type": "code",
   "execution_count": 4,
   "id": "628aaae6-5e1a-4698-ab1c-53ee38076686",
   "metadata": {},
   "outputs": [],
   "source": [
    "env_state_next = env.step(env_state, dummy_action)"
   ]
  },
  {
   "cell_type": "markdown",
   "id": "0e362ad4-2109-4766-a974-0f022ec0890a",
   "metadata": {},
   "source": [
    "# World Model\n",
    "\n",
    "In this section, we build the `step` or `world` variable necessary to plan"
   ]
  },
  {
   "cell_type": "code",
   "execution_count": 8,
   "id": "4312f048-645e-460d-bab3-9462038a474e",
   "metadata": {},
   "outputs": [],
   "source": [
    "@jit\n",
    "def step(carry, t):\n",
    "    rng, env_state, action_trajectory = carry\n",
    "    action = action_trajectory[t]\n",
    "    env_state_next = env.step(env_state, action)\n",
    "    carry = (rng, env_state_next, action_trajectory)\n",
    "    \n",
    "    info = dict(\n",
    "        observation=env_state.obs,\n",
    "        observation_next=env_state.obs,\n",
    "        reward=env_state_next.reward,\n",
    "        terminal=1 - env_state_next.done,\n",
    "        action=action,\n",
    "        env_state=env_state,\n",
    "        env_state_next=env_state_next,\n",
    "    )\n",
    "    return carry, info"
   ]
  },
  {
   "cell_type": "markdown",
   "id": "d0837dd3-57ad-4433-8035-83572067a426",
   "metadata": {},
   "source": [
    "# Planning Routine"
   ]
  },
  {
   "cell_type": "code",
   "execution_count": 9,
   "id": "f3d5c52a-0b74-4629-a1b9-03301aeed7b3",
   "metadata": {},
   "outputs": [],
   "source": [
    "forecast_ = partial(\n",
    "    forecast, step_fn=step,\n",
    "    horizon=20, action_dim=action_size,\n",
    "    minval=-1, maxval=1,\n",
    ")"
   ]
  },
  {
   "cell_type": "code",
   "execution_count": 9,
   "id": "03cc6583-7bc8-410a-b92e-5ddec4c2cd8e",
   "metadata": {},
   "outputs": [
    {
     "data": {
      "application/vnd.jupyter.widget-view+json": {
       "model_id": "79ef9e7355e040e69ad0659bb9109eb9",
       "version_major": 2,
       "version_minor": 0
      },
      "text/plain": [
       "  0%|          | 0/1000 [00:00<?, ?it/s]"
      ]
     },
     "metadata": {},
     "output_type": "display_data"
    },
    {
     "ename": "KeyboardInterrupt",
     "evalue": "",
     "output_type": "error",
     "traceback": [
      "\u001b[0;31m---------------------------------------------------------------------------\u001b[0m",
      "\u001b[0;31mKeyboardInterrupt\u001b[0m                         Traceback (most recent call last)",
      "\u001b[0;32m<ipython-input-9-c210ec0eabd2>\u001b[0m in \u001b[0;36m<module>\u001b[0;34m\u001b[0m\n\u001b[1;32m      1\u001b[0m \u001b[0menv_state\u001b[0m \u001b[0;34m=\u001b[0m \u001b[0menv\u001b[0m\u001b[0;34m.\u001b[0m\u001b[0mreset\u001b[0m\u001b[0;34m(\u001b[0m\u001b[0mrng\u001b[0m\u001b[0;34m)\u001b[0m\u001b[0;34m\u001b[0m\u001b[0;34m\u001b[0m\u001b[0m\n\u001b[1;32m      2\u001b[0m \u001b[0;32mfor\u001b[0m \u001b[0m_\u001b[0m \u001b[0;32min\u001b[0m \u001b[0mtqdm\u001b[0m\u001b[0;34m.\u001b[0m\u001b[0mnotebook\u001b[0m\u001b[0;34m.\u001b[0m\u001b[0mtrange\u001b[0m\u001b[0;34m(\u001b[0m\u001b[0;36m1000\u001b[0m\u001b[0;34m)\u001b[0m\u001b[0;34m:\u001b[0m\u001b[0;34m\u001b[0m\u001b[0;34m\u001b[0m\u001b[0m\n\u001b[0;32m----> 3\u001b[0;31m     \u001b[0maction\u001b[0m\u001b[0;34m,\u001b[0m \u001b[0m_\u001b[0m \u001b[0;34m=\u001b[0m \u001b[0mplan\u001b[0m\u001b[0;34m(\u001b[0m\u001b[0mrng\u001b[0m\u001b[0;34m,\u001b[0m \u001b[0menv_state\u001b[0m\u001b[0;34m,\u001b[0m \u001b[0mforecast_\u001b[0m\u001b[0;34m,\u001b[0m \u001b[0mscore\u001b[0m\u001b[0;34m)\u001b[0m\u001b[0;34m\u001b[0m\u001b[0;34m\u001b[0m\u001b[0m\n\u001b[0m\u001b[1;32m      4\u001b[0m     \u001b[0;31m# Slow...\u001b[0m\u001b[0;34m\u001b[0m\u001b[0;34m\u001b[0m\u001b[0;34m\u001b[0m\u001b[0m\n",
      "\u001b[0;32m~/miniconda3/envs/lab/lib/python3.8/site-packages/flax/struct.py\u001b[0m in \u001b[0;36mclz_from_iterable\u001b[0;34m(meta, data)\u001b[0m\n\u001b[1;32m     99\u001b[0m     \u001b[0;32mreturn\u001b[0m \u001b[0mdata\u001b[0m\u001b[0;34m,\u001b[0m \u001b[0mmeta\u001b[0m\u001b[0;34m\u001b[0m\u001b[0;34m\u001b[0m\u001b[0m\n\u001b[1;32m    100\u001b[0m \u001b[0;34m\u001b[0m\u001b[0m\n\u001b[0;32m--> 101\u001b[0;31m   \u001b[0;32mdef\u001b[0m \u001b[0mclz_from_iterable\u001b[0m\u001b[0;34m(\u001b[0m\u001b[0mmeta\u001b[0m\u001b[0;34m,\u001b[0m \u001b[0mdata\u001b[0m\u001b[0;34m)\u001b[0m\u001b[0;34m:\u001b[0m\u001b[0;34m\u001b[0m\u001b[0;34m\u001b[0m\u001b[0m\n\u001b[0m\u001b[1;32m    102\u001b[0m     \u001b[0mmeta_args\u001b[0m \u001b[0;34m=\u001b[0m \u001b[0mtuple\u001b[0m\u001b[0;34m(\u001b[0m\u001b[0mzip\u001b[0m\u001b[0;34m(\u001b[0m\u001b[0mmeta_fields\u001b[0m\u001b[0;34m,\u001b[0m \u001b[0mmeta\u001b[0m\u001b[0;34m)\u001b[0m\u001b[0;34m)\u001b[0m\u001b[0;34m\u001b[0m\u001b[0;34m\u001b[0m\u001b[0m\n\u001b[1;32m    103\u001b[0m     \u001b[0mdata_args\u001b[0m \u001b[0;34m=\u001b[0m \u001b[0mtuple\u001b[0m\u001b[0;34m(\u001b[0m\u001b[0mzip\u001b[0m\u001b[0;34m(\u001b[0m\u001b[0mdata_fields\u001b[0m\u001b[0;34m,\u001b[0m \u001b[0mdata\u001b[0m\u001b[0;34m)\u001b[0m\u001b[0;34m)\u001b[0m\u001b[0;34m\u001b[0m\u001b[0;34m\u001b[0m\u001b[0m\n",
      "\u001b[0;31mKeyboardInterrupt\u001b[0m: "
     ]
    }
   ],
   "source": [
    "env_state = env.reset(rng)\n",
    "for _ in tqdm.notebook.trange(1000):\n",
    "    action, _ = plan(rng, env_state, forecast_, score)\n",
    "    # Slow..."
   ]
  },
  {
   "cell_type": "code",
   "execution_count": 13,
   "id": "123e603c-b7e2-4128-beb2-ae6736e547bc",
   "metadata": {},
   "outputs": [],
   "source": [
    "@jit\n",
    "def one_step_interaction(carry, t):\n",
    "    rng, env_state = carry\n",
    "    action = plan(rng, env_state, forecast_, score)[0][0]\n",
    "    env_state_next = env.step(env_state, action)\n",
    "    carry = (rng, env_state_next)\n",
    "    \n",
    "    info = dict(\n",
    "        observation=env_state.obs,\n",
    "        observation_next=env_state.obs,\n",
    "        reward=env_state_next.reward,\n",
    "        terminal=1 - env_state_next.done,\n",
    "        action=action,\n",
    "        env_state=env_state,\n",
    "        env_state_next=env_state_next,\n",
    "    )\n",
    "    return carry, info"
   ]
  },
  {
   "cell_type": "code",
   "execution_count": 14,
   "id": "3e6174ab-feff-47c9-ba85-84108e3d8fb0",
   "metadata": {},
   "outputs": [],
   "source": [
    "env_state = env.reset(rng)\n",
    "init = (rng, env_state)\n"
   ]
  },
  {
   "cell_type": "code",
   "execution_count": 15,
   "id": "c71fc434-2880-4408-81be-c23e5d003c37",
   "metadata": {},
   "outputs": [
    {
     "name": "stdout",
     "output_type": "stream",
     "text": [
      "CPU times: user 1min 23s, sys: 134 ms, total: 1min 23s\n",
      "Wall time: 1min 23s\n"
     ]
    }
   ],
   "source": [
    "%%time\n",
    "_, out = jax.lax.scan(one_step_interaction, init, jnp.arange(1000))  # First should be long."
   ]
  },
  {
   "cell_type": "code",
   "execution_count": 49,
   "id": "6b298d58-b8af-446b-8c68-856325053a23",
   "metadata": {},
   "outputs": [
    {
     "data": {
      "text/plain": [
       "dict_keys(['action', 'env_state', 'env_state_next', 'observation', 'observation_next', 'reward', 'terminal'])"
      ]
     },
     "execution_count": 49,
     "metadata": {},
     "output_type": "execute_result"
    }
   ],
   "source": [
    "out.keys()"
   ]
  },
  {
   "cell_type": "code",
   "execution_count": 51,
   "id": "6784f069-8a85-4eeb-a91a-36a928a009fe",
   "metadata": {},
   "outputs": [
    {
     "data": {
      "text/plain": [
       "5864.84186822176"
      ]
     },
     "execution_count": 51,
     "metadata": {},
     "output_type": "execute_result"
    }
   ],
   "source": [
    "sum(out['reward'])"
   ]
  },
  {
   "cell_type": "code",
   "execution_count": 22,
   "id": "2f8ab2f1-3273-4f05-ad42-1cf17a411c6b",
   "metadata": {},
   "outputs": [
    {
     "name": "stdout",
     "output_type": "stream",
     "text": [
      "CPU times: user 3.55 ms, sys: 0 ns, total: 3.55 ms\n",
      "Wall time: 2 ms\n"
     ]
    }
   ],
   "source": [
    "%%time\n",
    "_, out = jax.lax.scan(one_step_interaction, init, jnp.arange(1000)) "
   ]
  },
  {
   "cell_type": "code",
   "execution_count": null,
   "id": "c053cb43-de73-43fc-be1e-1b6827ab530b",
   "metadata": {},
   "outputs": [],
   "source": [
    "out.rewards"
   ]
  },
  {
   "cell_type": "code",
   "execution_count": null,
   "id": "0864b2e2-86ed-48f8-b664-0e851c4a06dd",
   "metadata": {},
   "outputs": [],
   "source": []
  }
 ],
 "metadata": {
  "kernelspec": {
   "display_name": "Python 3",
   "language": "python",
   "name": "python3"
  },
  "language_info": {
   "codemirror_mode": {
    "name": "ipython",
    "version": 3
   },
   "file_extension": ".py",
   "mimetype": "text/x-python",
   "name": "python",
   "nbconvert_exporter": "python",
   "pygments_lexer": "ipython3",
   "version": "3.8.10"
  }
 },
 "nbformat": 4,
 "nbformat_minor": 5
}
