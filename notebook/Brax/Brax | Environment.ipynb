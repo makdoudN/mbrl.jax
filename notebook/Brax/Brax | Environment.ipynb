{
 "cells": [
  {
   "cell_type": "code",
   "execution_count": 1,
   "id": "53f966ba-0138-46ce-a225-f136b37acce5",
   "metadata": {},
   "outputs": [
    {
     "name": "stdout",
     "output_type": "stream",
     "text": [
      "Process numbers: 1\n",
      "Device numbers: 1\n",
      "Local Device numbers: 1\n"
     ]
    }
   ],
   "source": [
    "import jax\n",
    "import tax\n",
    "import brax\n",
    "import jax.numpy as jnp\n",
    "from brax import envs\n",
    "\n",
    "from jax import jit\n",
    "from jax import vmap\n",
    "\n",
    "rng = jax.random.PRNGKey(42)\n",
    "tax.set_platform('cpu')\n",
    "\n",
    "process_count      = jax.process_count()\n",
    "device_count       = jax.device_count()\n",
    "local_device_count = jax.local_device_count()\n",
    "\n",
    "print(f'Process numbers: {process_count}')\n",
    "print(f'Device numbers: {device_count}')\n",
    "print(f'Local Device numbers: {local_device_count}')"
   ]
  },
  {
   "cell_type": "code",
   "execution_count": 2,
   "id": "9c00a06f-dad2-4f69-b1c5-6e5c364801a5",
   "metadata": {},
   "outputs": [],
   "source": [
    "name = 'halfcheetah'\n",
    "envf = envs.create_fn(name)\n",
    "env = envf()"
   ]
  },
  {
   "cell_type": "code",
   "execution_count": 3,
   "id": "8da59eb1-ab39-400e-9168-4ebcc79a310e",
   "metadata": {},
   "outputs": [],
   "source": [
    "step = vmap(env.step)\n",
    "reset = vmap(env.reset)"
   ]
  },
  {
   "cell_type": "code",
   "execution_count": 4,
   "id": "089bbd79-68e7-4dd5-b5ed-77ec4999d4f4",
   "metadata": {},
   "outputs": [],
   "source": [
    "brng = jax.random.split(rng, 12)\n",
    "env_state = reset(brng)"
   ]
  },
  {
   "cell_type": "code",
   "execution_count": 5,
   "id": "15461ab1-0b26-45ee-aa8e-18631512b5a8",
   "metadata": {},
   "outputs": [
    {
     "data": {
      "text/plain": [
       "(12, 25)"
      ]
     },
     "execution_count": 5,
     "metadata": {},
     "output_type": "execute_result"
    }
   ],
   "source": [
    "env_state.obs.shape"
   ]
  },
  {
   "cell_type": "code",
   "execution_count": 10,
   "id": "4b60faa1-6a17-4314-9459-08af80bc44f7",
   "metadata": {},
   "outputs": [
    {
     "data": {
      "text/plain": [
       "<function jax.lib.xla_bridge.devices(backend: Union[str, NoneType] = None) -> List[jaxlib.xla_extension.Device]>"
      ]
     },
     "execution_count": 10,
     "metadata": {},
     "output_type": "execute_result"
    }
   ],
   "source": [
    "jax.devices"
   ]
  },
  {
   "cell_type": "code",
   "execution_count": null,
   "id": "b143fd6d-4aaa-4af7-89d7-865e0c047c53",
   "metadata": {},
   "outputs": [],
   "source": []
  }
 ],
 "metadata": {
  "kernelspec": {
   "display_name": "Python 3",
   "language": "python",
   "name": "python3"
  },
  "language_info": {
   "codemirror_mode": {
    "name": "ipython",
    "version": 3
   },
   "file_extension": ".py",
   "mimetype": "text/x-python",
   "name": "python",
   "nbconvert_exporter": "python",
   "pygments_lexer": "ipython3",
   "version": "3.8.10"
  }
 },
 "nbformat": 4,
 "nbformat_minor": 5
}
