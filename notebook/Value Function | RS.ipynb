{
 "cells": [
  {
   "cell_type": "code",
   "execution_count": 1,
   "id": "59e7f2db-385e-4095-a3a4-f6abfc2051db",
   "metadata": {},
   "outputs": [],
   "source": [
    "import jax\n",
    "import tax\n",
    "import clu\n",
    "import tqdm\n",
    "import haiku as hk\n",
    "import numpy as np\n",
    "import collections \n",
    "import jax.numpy as jnp\n",
    "import matplotlib as mpl\n",
    "import matplotlib.pyplot as plt\n",
    "import mbrl\n",
    "import brax\n",
    "import tqdm\n",
    "import functools\n",
    "\n",
    "from brax import envs\n",
    "from brax.io import html\n",
    "from jax import jit\n",
    "from functools import partial\n",
    "from mbrl.algs.rs import trajectory_search, forecast, score, plan\n",
    "from IPython.display import HTML, IFrame, display, clear_output \n",
    "\n",
    "def visualize(sys, qps):\n",
    "  \"\"\"Renders a 3D visualization of the environment.\"\"\"\n",
    "  return HTML(html.render(sys, qps))\n",
    "\n",
    "\n",
    "tax.set_platform('cpu')\n",
    "\n",
    "rng = jax.random.PRNGKey(42)\n",
    "\n",
    "name = 'halfcheetah'\n",
    "envf = envs.create_fn(name)\n",
    "env = envf()\n",
    "env_state = env.reset(rng=rng)\n",
    "action_size = env.action_size\n",
    "observation_size = env.observation_size\n",
    "\n",
    "@jit\n",
    "def step(carry, t):\n",
    "    rng, env_state, action_trajectory = carry\n",
    "    action = action_trajectory[t]\n",
    "    env_state_next = env.step(env_state, action)\n",
    "    carry = (rng, env_state_next, action_trajectory)\n",
    "    \n",
    "    info = dict(\n",
    "        observation=env_state.obs,\n",
    "        observation_next=env_state.obs,\n",
    "        reward=env_state_next.reward,\n",
    "        terminal=1 - env_state_next.done,\n",
    "        action=action,\n",
    "        env_state=env_state,\n",
    "        env_state_next=env_state_next,\n",
    "    )\n",
    "    return carry, info"
   ]
  },
  {
   "cell_type": "code",
   "execution_count": 2,
   "id": "e4d905b4-7a4f-4283-aa09-87c2c8747266",
   "metadata": {},
   "outputs": [],
   "source": [
    "forecast_ = partial(\n",
    "    forecast, step_fn=step,\n",
    "    horizon=20, action_dim=action_size,\n",
    "    minval=-1, maxval=1,\n",
    ")"
   ]
  },
  {
   "cell_type": "code",
   "execution_count": 3,
   "id": "ebbcf3cf-42dc-497c-872a-a8b5090cbf95",
   "metadata": {},
   "outputs": [],
   "source": [
    "@jit\n",
    "def one_step_interaction(carry, t):\n",
    "    rng, env_state = carry\n",
    "    action = plan(rng, env_state, forecast_, score)[0][0]\n",
    "    env_state_next = env.step(env_state, action)\n",
    "    carry = (rng, env_state_next)\n",
    "    \n",
    "    info = dict(\n",
    "        observation=env_state.obs,\n",
    "        observation_next=env_state.obs,\n",
    "        reward=env_state_next.reward,\n",
    "        terminal=1 - env_state_next.done,\n",
    "        action=action,\n",
    "        env_state=env_state,\n",
    "        env_state_next=env_state_next,\n",
    "    )\n",
    "    return carry, info"
   ]
  },
  {
   "cell_type": "code",
   "execution_count": 4,
   "id": "43adfcb3-6525-47ef-b0ad-021669c79b2d",
   "metadata": {},
   "outputs": [
    {
     "name": "stdout",
     "output_type": "stream",
     "text": [
      "Compilation Done.\n",
      "CPU times: user 1min 23s, sys: 143 ms, total: 1min 23s\n",
      "Wall time: 1min 23s\n"
     ]
    }
   ],
   "source": [
    "%%time\n",
    "# Compilation of the interaction with the environment during one episode \n",
    "env_state = env.reset(rng)\n",
    "init = (rng, env_state)\n",
    "_, out = jax.lax.scan(one_step_interaction, init, jnp.arange(1000))  # First should be long.\n",
    "print('Compilation Done.')"
   ]
  },
  {
   "cell_type": "code",
   "execution_count": null,
   "id": "7d5313c2-070b-4417-9957-8156eed83ae6",
   "metadata": {},
   "outputs": [],
   "source": [
    "_, out = jax.lax.scan(one_step_interaction, init, jnp.arange(1000)) "
   ]
  },
  {
   "cell_type": "code",
   "execution_count": null,
   "id": "54036f55-c79e-476b-b933-fb59df423b46",
   "metadata": {},
   "outputs": [],
   "source": []
  },
  {
   "cell_type": "markdown",
   "id": "6ad71517-7d24-4b96-96c7-6e7fe8e2e8b4",
   "metadata": {},
   "source": [
    "# Training Loop (MBRL + Value Function)"
   ]
  },
  {
   "cell_type": "code",
   "execution_count": null,
   "id": "27f27826-64e1-41f4-bb2a-2292d8eb1f93",
   "metadata": {},
   "outputs": [],
   "source": [
    "# Exploration (=> Gather Data)\n",
    "info = jax.lax.scan(one_step_interaction, init, jnp.arange(1000)) "
   ]
  },
  {
   "cell_type": "code",
   "execution_count": null,
   "id": "abcace9a-4d5d-477d-9b18-da01c3df8a59",
   "metadata": {},
   "outputs": [],
   "source": [
    "rb = tax.ReplayBuffer(100_000)"
   ]
  },
  {
   "cell_type": "code",
   "execution_count": null,
   "id": "3f59083d-fd8c-4949-9882-1a2674eab738",
   "metadata": {},
   "outputs": [],
   "source": [
    "rb.add({\n",
    "    'observation': observation,\n",
    "    'observation_next': observation_next,\n",
    "    'reward': reward,\n",
    "    'discount': \n",
    "})"
   ]
  }
 ],
 "metadata": {
  "kernelspec": {
   "display_name": "Python 3",
   "language": "python",
   "name": "python3"
  },
  "language_info": {
   "codemirror_mode": {
    "name": "ipython",
    "version": 3
   },
   "file_extension": ".py",
   "mimetype": "text/x-python",
   "name": "python",
   "nbconvert_exporter": "python",
   "pygments_lexer": "ipython3",
   "version": "3.8.10"
  }
 },
 "nbformat": 4,
 "nbformat_minor": 5
}
