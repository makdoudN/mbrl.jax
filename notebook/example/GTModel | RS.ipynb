{
 "cells": [
  {
   "cell_type": "code",
   "execution_count": 13,
   "id": "adb89e82-2882-4862-b65c-fe96cbe9960e",
   "metadata": {},
   "outputs": [],
   "source": [
    "import jax\n",
    "import tax\n",
    "import clu\n",
    "import tqdm\n",
    "import haiku as hk\n",
    "import numpy as np\n",
    "import collections \n",
    "import jax.numpy as jnp\n",
    "import matplotlib as mpl\n",
    "import matplotlib.pyplot as plt\n",
    "\n",
    "import mbrl\n",
    "from jax import jit\n",
    "from functools import partial\n",
    "\n",
    "from mbrl.envs.oracle.pendulum import render, step, reset, env_params\n",
    "from mbrl.algs.rs import trajectory_search, forecast, score, plan\n",
    "\n",
    "Environment = collections.namedtuple('Environment', ['step', 'reset'])"
   ]
  },
  {
   "cell_type": "code",
   "execution_count": 14,
   "id": "7b1ca6c0-0391-49de-9f8d-42243d042a69",
   "metadata": {},
   "outputs": [],
   "source": [
    "rng = jax.random.PRNGKey(42)\n",
    "env = Environment(\n",
    "    jit(lambda state, u: step(env_params, state, u)), \n",
    "    jit(reset)\n",
    ")"
   ]
  },
  {
   "cell_type": "code",
   "execution_count": 15,
   "id": "738667ea-def1-489a-930e-f6223c084206",
   "metadata": {},
   "outputs": [],
   "source": [
    "def world(carry, t):\n",
    "    keys, (env_state, observation), trajectory = carry\n",
    "    action = trajectory[t]\n",
    "    env_state_next, observation_next, reward, terminal, info = \\\n",
    "        env.step(env_state, action)\n",
    "    carry = keys, (env_state_next, observation_next), trajectory\n",
    "    return carry, {\n",
    "        \"observation\": observation,\n",
    "        \"observation_next\": observation_next,\n",
    "        \"reward\": reward, \"action\": action, \"terminal\": 1 - terminal,\n",
    "        \"env_state\": env_state, 'env_state_next': env_state_next\n",
    "    }"
   ]
  },
  {
   "cell_type": "code",
   "execution_count": 16,
   "id": "21bc1f94-5949-4fc1-993f-928c4da0d500",
   "metadata": {},
   "outputs": [],
   "source": [
    "score_    = jit(score)\n",
    "forecast_ = partial(forecast, \n",
    "                    step_fn=world, \n",
    "                    horizon=20, \n",
    "                    action_dim=1, \n",
    "                    minval=-2., \n",
    "                    maxval=2.)"
   ]
  },
  {
   "cell_type": "code",
   "execution_count": 21,
   "id": "d4e56dbf-6085-4339-ac2f-7b6f0d44b073",
   "metadata": {},
   "outputs": [
    {
     "data": {
      "text/plain": [
       "DeviceArray([1.6705208], dtype=float32)"
      ]
     },
     "execution_count": 21,
     "metadata": {},
     "output_type": "execute_result"
    }
   ],
   "source": [
    "env_state_0, ob_0 = env.reset(rng)\n",
    "action, _ = plan(rng, (env_state_0, ob_0), forecast_, score_)\n",
    "action[0]"
   ]
  },
  {
   "cell_type": "code",
   "execution_count": 34,
   "id": "eab17b1f-39e7-4c74-91fb-762c203be321",
   "metadata": {},
   "outputs": [
    {
     "data": {
      "application/vnd.jupyter.widget-view+json": {
       "model_id": "9868cfab246f42aa8fb8b60fc4b86f39",
       "version_major": 2,
       "version_minor": 0
      },
      "text/plain": [
       "  0%|          | 0/200 [00:00<?, ?it/s]"
      ]
     },
     "metadata": {},
     "output_type": "display_data"
    },
    {
     "name": "stdout",
     "output_type": "stream",
     "text": [
      "Random Score: -1474.5244140625\n"
     ]
    }
   ],
   "source": [
    "# Random\n",
    "score = 0\n",
    "env_state, observation = env.reset(rng)\n",
    "for _ in tqdm.notebook.trange(200):\n",
    "    rng, key = jax.random.split(rng)\n",
    "    action = jax.random.uniform(key, (1,), minval=-2., maxval=2.)\n",
    "    env_state, observation_next, reward, terminal, info = env.step(env_state, action)\n",
    "    score += reward\n",
    "    \n",
    "print(f'Random Score: {score}')"
   ]
  },
  {
   "cell_type": "code",
   "execution_count": 49,
   "id": "37f3c253-39c3-4167-8bfa-949f27f254ad",
   "metadata": {},
   "outputs": [
    {
     "data": {
      "application/vnd.jupyter.widget-view+json": {
       "model_id": "fd371af5cac54a63a7fc2997659695f7",
       "version_major": 2,
       "version_minor": 0
      },
      "text/plain": [
       "  0%|          | 0/200 [00:00<?, ?it/s]"
      ]
     },
     "metadata": {},
     "output_type": "display_data"
    },
    {
     "name": "stdout",
     "output_type": "stream",
     "text": [
      "Random Score: -121.38945770263672\n"
     ]
    }
   ],
   "source": [
    "# RS:Model.\n",
    "score = 0\n",
    "env_state, observation = env.reset(rng)\n",
    "for _ in tqdm.notebook.trange(200):\n",
    "    rng, key = jax.random.split(rng)\n",
    "    action = plan(key, (env_state, observation), forecast_, score_)[0][0]\n",
    "    env_state, observation, reward, terminal, info = env.step(env_state, action)\n",
    "    score += reward\n",
    "\n",
    "print(f'Random Score: {score}')"
   ]
  },
  {
   "cell_type": "code",
   "execution_count": 63,
   "id": "cc434741-5f60-4fb8-93ce-e583bd9bce2d",
   "metadata": {},
   "outputs": [],
   "source": [
    "\"\"\" Entire Loop with scan\"\"\"\n",
    "\n",
    "def one_step(carry, t):\n",
    "    key, (env_state, observation)  = carry\n",
    "    key, subkey = jax.random.split(key)\n",
    "    action = plan(subkey, (env_state, observation), forecast_, score_)[0][0]\n",
    "    env_state_next, observation_next, reward, terminal, info = \\\n",
    "        env.step(env_state, action)\n",
    "    carry = key, (env_state_next, observation_next)\n",
    "    return carry, {\n",
    "        \"observation\": observation,\n",
    "        \"observation_next\": observation_next,\n",
    "        \"reward\": reward, \"action\": action, \"terminal\": 1 - terminal,\n",
    "        \"env_state\": env_state, 'env_state_next': env_state_next\n",
    "    }"
   ]
  },
  {
   "cell_type": "code",
   "execution_count": 64,
   "id": "a847a442-8469-4c96-8cb4-380fb1eeb86b",
   "metadata": {},
   "outputs": [],
   "source": [
    "env_state, observation = env.reset(rng)\n",
    "init = (rng, (env_state, observation))\n",
    "_, out = jax.lax.scan(one_step, init, jnp.arange(200))"
   ]
  },
  {
   "cell_type": "code",
   "execution_count": 65,
   "id": "4f6be9dd-4bf8-46dd-893a-ad4203298a43",
   "metadata": {},
   "outputs": [
    {
     "data": {
      "text/plain": [
       "DeviceArray(-115.51241, dtype=float32)"
      ]
     },
     "execution_count": 65,
     "metadata": {},
     "output_type": "execute_result"
    }
   ],
   "source": [
    "jnp.sum(out['reward'])"
   ]
  },
  {
   "cell_type": "code",
   "execution_count": null,
   "id": "018a5f70-a74c-4699-b591-22a3de43edf0",
   "metadata": {},
   "outputs": [],
   "source": []
  }
 ],
 "metadata": {
  "kernelspec": {
   "display_name": "Python 3",
   "language": "python",
   "name": "python3"
  },
  "language_info": {
   "codemirror_mode": {
    "name": "ipython",
    "version": 3
   },
   "file_extension": ".py",
   "mimetype": "text/x-python",
   "name": "python",
   "nbconvert_exporter": "python",
   "pygments_lexer": "ipython3",
   "version": "3.8.10"
  }
 },
 "nbformat": 4,
 "nbformat_minor": 5
}
