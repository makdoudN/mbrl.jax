{
 "cells": [
  {
   "cell_type": "code",
   "execution_count": 1,
   "id": "550ff14b-db60-4109-9aef-153b3e22c307",
   "metadata": {},
   "outputs": [],
   "source": [
    "import jax\n",
    "import tax\n",
    "import clu\n",
    "import chex\n",
    "import tqdm\n",
    "import haiku as hk\n",
    "import numpy as np\n",
    "import collections \n",
    "import jax.numpy as jnp\n",
    "import matplotlib as mpl\n",
    "import matplotlib.pyplot as plt\n",
    "\n",
    "import mbrl\n",
    "from jax import jit\n",
    "from jax import vmap\n",
    "from functools import partial\n",
    "\n",
    "from mbrl.envs.oracle.pendulum import render, step, reset, env_params\n",
    "from mbrl.algs.cem import forecast, score\n",
    "from mbrl.algs.cem import get_elite_stats\n",
    "from mbrl.algs.cem import score\n",
    "from mbrl.algs.cem import plan\n",
    "\n",
    "Environment = collections.namedtuple('Environment', ['step', 'reset'])"
   ]
  },
  {
   "cell_type": "code",
   "execution_count": 2,
   "id": "56d30409-b7d0-4d82-9f98-2f9cd7eaaee9",
   "metadata": {},
   "outputs": [],
   "source": [
    "rng = jax.random.PRNGKey(42)\n",
    "env = Environment(\n",
    "    jit(lambda state, u: step(env_params, state, u)), \n",
    "    jit(reset)\n",
    ")\n",
    "def world(carry, t):\n",
    "    keys, (env_state, observation), trajectory = carry\n",
    "    action = trajectory[t]\n",
    "    env_state_next, observation_next, reward, terminal, info = \\\n",
    "        env.step(env_state, action)\n",
    "    carry = keys, (env_state_next, observation_next), trajectory\n",
    "    return carry, {\n",
    "        \"observation\": observation,\n",
    "        \"observation_next\": observation_next,\n",
    "        \"reward\": reward, \"action\": action, \"terminal\": 1 - terminal,\n",
    "        \"env_state\": env_state, 'env_state_next': env_state_next\n",
    "    }"
   ]
  },
  {
   "cell_type": "code",
   "execution_count": 3,
   "id": "60ce6560-6014-42a0-897d-2fd2f209f07a",
   "metadata": {},
   "outputs": [],
   "source": [
    "score_    = jit(score)\n",
    "forecast_ = partial(forecast, \n",
    "                    step_fn=world, \n",
    "                    horizon=20, \n",
    "                    action_dim=1, \n",
    "                    minval=-2., \n",
    "                    maxval=2.)"
   ]
  },
  {
   "cell_type": "code",
   "execution_count": 4,
   "id": "4007cc75-089d-4ee1-868e-c0d2348fdf12",
   "metadata": {},
   "outputs": [],
   "source": [
    "action_dim, horizon = 1, 20\n",
    "loc = jnp.zeros((horizon, action_dim))\n",
    "scale = jnp.ones((horizon, action_dim))"
   ]
  },
  {
   "cell_type": "code",
   "execution_count": 5,
   "id": "708bad93-2087-4c40-a741-1edd90654c0e",
   "metadata": {},
   "outputs": [],
   "source": [
    "env_state_0, ob_0 = env.reset(rng)\n",
    "traj = forecast_(rng, (env_state_0, ob_0), loc, scale)"
   ]
  },
  {
   "cell_type": "code",
   "execution_count": 7,
   "id": "71cd1c51-b311-4943-af2c-41560bf74d15",
   "metadata": {},
   "outputs": [],
   "source": [
    "_ = plan(rng, (env_state_0, ob_0),  forecast_, score_, action_dim=1)"
   ]
  },
  {
   "cell_type": "code",
   "execution_count": 10,
   "id": "7f0ca1bf-6ad5-48d9-881f-8938e8e7348b",
   "metadata": {},
   "outputs": [
    {
     "data": {
      "application/vnd.jupyter.widget-view+json": {
       "model_id": "fff743f461af44e191c9ceeaa7d68fbf",
       "version_major": 2,
       "version_minor": 0
      },
      "text/plain": [
       "  0%|          | 0/200 [00:00<?, ?it/s]"
      ]
     },
     "metadata": {},
     "output_type": "display_data"
    },
    {
     "name": "stdout",
     "output_type": "stream",
     "text": [
      "Random Score: -1354.366943359375\n"
     ]
    }
   ],
   "source": [
    "# Random\n",
    "score = 0\n",
    "env_state, observation = env.reset(rng)\n",
    "for _ in tqdm.notebook.trange(200):\n",
    "    rng, key = jax.random.split(rng)\n",
    "    action = jax.random.uniform(key, (1,), minval=-2., maxval=2.)\n",
    "    env_state, observation_next, reward, terminal, info = env.step(env_state, action)\n",
    "    score += reward\n",
    "    \n",
    "print(f'Random Score: {score}')"
   ]
  },
  {
   "cell_type": "code",
   "execution_count": 20,
   "id": "72a20cc7-d4cf-4d62-af53-a4d764d4a7b5",
   "metadata": {},
   "outputs": [
    {
     "data": {
      "application/vnd.jupyter.widget-view+json": {
       "model_id": "068c1cb7fdca4b2e81d853d06962e6c2",
       "version_major": 2,
       "version_minor": 0
      },
      "text/plain": [
       "  0%|          | 0/200 [00:00<?, ?it/s]"
      ]
     },
     "metadata": {},
     "output_type": "display_data"
    },
    {
     "name": "stdout",
     "output_type": "stream",
     "text": [
      "Random Score: -0.30772554874420166\n",
      "CPU times: user 982 ms, sys: 40.2 ms, total: 1.02 s\n",
      "Wall time: 817 ms\n"
     ]
    }
   ],
   "source": [
    "%%time\n",
    "# CEM:Model.\n",
    "score = 0\n",
    "env_state, observation = env.reset(rng)\n",
    "for _ in tqdm.notebook.trange(200):\n",
    "    rng, key = jax.random.split(rng)\n",
    "    action = plan(rng, (env_state, observation),  forecast_, score_, action_dim=1)[0][0]\n",
    "    env_state, observation, reward, terminal, info = env.step(env_state, action)\n",
    "    score += reward\n",
    "\n",
    "print(f'Random Score: {score}')"
   ]
  },
  {
   "cell_type": "code",
   "execution_count": 12,
   "id": "be504214-355e-44c3-b6ad-01ad1607df7f",
   "metadata": {},
   "outputs": [],
   "source": [
    "\"\"\" Entire Loop with scan\"\"\"\n",
    "\n",
    "def one_step(carry, t):\n",
    "    key, (env_state, observation)  = carry\n",
    "    key, subkey = jax.random.split(key)\n",
    "    action = plan(rng, (env_state, observation),  forecast_, score_, action_dim=1)[0][0]\n",
    "    env_state_next, observation_next, reward, terminal, info = \\\n",
    "        env.step(env_state, action)\n",
    "    carry = key, (env_state_next, observation_next)\n",
    "    return carry, {\n",
    "        \"observation\": observation,\n",
    "        \"observation_next\": observation_next,\n",
    "        \"reward\": reward, \"action\": action, \"terminal\": 1 - terminal,\n",
    "        \"env_state\": env_state, 'env_state_next': env_state_next\n",
    "    }"
   ]
  },
  {
   "cell_type": "code",
   "execution_count": 22,
   "id": "d0e924bf-1879-4c19-a000-73cf5f8b3126",
   "metadata": {},
   "outputs": [
    {
     "name": "stdout",
     "output_type": "stream",
     "text": [
      "CPU times: user 490 ms, sys: 0 ns, total: 490 ms\n",
      "Wall time: 488 ms\n"
     ]
    }
   ],
   "source": [
    "%%time\n",
    "env_state, observation = env.reset(rng)\n",
    "init = (rng, (env_state, observation))\n",
    "_, out = jax.lax.scan(one_step, init, jnp.arange(200))"
   ]
  },
  {
   "cell_type": "code",
   "execution_count": 14,
   "id": "cbb1cff5-1f1c-4966-ab92-e9c65cb98b5e",
   "metadata": {},
   "outputs": [
    {
     "data": {
      "text/plain": [
       "DeviceArray(-484.64685, dtype=float32)"
      ]
     },
     "execution_count": 14,
     "metadata": {},
     "output_type": "execute_result"
    }
   ],
   "source": [
    "jnp.sum(out['reward'])"
   ]
  },
  {
   "cell_type": "code",
   "execution_count": null,
   "id": "add2a83c-d6a6-45a5-a738-7e0c0cae9260",
   "metadata": {},
   "outputs": [],
   "source": []
  }
 ],
 "metadata": {
  "kernelspec": {
   "display_name": "Python 3",
   "language": "python",
   "name": "python3"
  },
  "language_info": {
   "codemirror_mode": {
    "name": "ipython",
    "version": 3
   },
   "file_extension": ".py",
   "mimetype": "text/x-python",
   "name": "python",
   "nbconvert_exporter": "python",
   "pygments_lexer": "ipython3",
   "version": "3.8.10"
  }
 },
 "nbformat": 4,
 "nbformat_minor": 5
}
