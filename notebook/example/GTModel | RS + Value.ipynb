{
 "cells": [
  {
   "cell_type": "code",
   "execution_count": 173,
   "id": "c01b970e-c61e-40fa-9122-6e72414d40d0",
   "metadata": {},
   "outputs": [],
   "source": [
    "import jax\n",
    "import tax\n",
    "import clu\n",
    "import optax\n",
    "import rlax\n",
    "import tqdm\n",
    "import chex\n",
    "import tree\n",
    "import typing\n",
    "import functools\n",
    "import haiku as hk\n",
    "import numpy as np\n",
    "import collections \n",
    "import jax.numpy as jnp\n",
    "import matplotlib as mpl\n",
    "import matplotlib.pyplot as plt\n",
    "\n",
    "import mbrl\n",
    "from jax import jit\n",
    "from jax import vmap\n",
    "from jax import grad\n",
    "from jax import value_and_grad\n",
    "from functools import partial\n",
    "\n",
    "from jax.experimental.optimizers import clip_grads\n",
    "from jax.experimental.optimizers import l2_norm\n",
    "from mbrl.envs.oracle.pendulum import render, step, reset, env_params\n",
    "from mbrl.algs.rs import trajectory_search, forecast, score, plan\n",
    "from mbrl.common.nn import mlp_deterministic\n",
    "\n",
    "from scipy.signal import savgol_filter\n",
    "\n",
    "smooth = functools.partial(savgol_filter, window_length=51, polyorder=3)\n",
    "\n",
    "Environment = collections.namedtuple('Environment', ['step', 'reset'])\n",
    "\n",
    "# Initialization.\n",
    "rng = jax.random.PRNGKey(42)\n",
    "env = Environment(\n",
    "    jit(lambda state, u: step(env_params, state, u)), \n",
    "    jit(reset)\n",
    ")"
   ]
  },
  {
   "cell_type": "code",
   "execution_count": 174,
   "id": "96ac7dbf-6fe9-4eef-96d1-11b0abd39d32",
   "metadata": {},
   "outputs": [],
   "source": [
    "def world(carry, t):\n",
    "    keys, (env_state, observation), trajectory = carry\n",
    "    action = trajectory[t]\n",
    "    env_state_next, observation_next, reward, terminal, info = \\\n",
    "        env.step(env_state, action)\n",
    "    carry = keys, (env_state_next, observation_next), trajectory\n",
    "    return carry, {\n",
    "        \"observation\": observation,\n",
    "        \"observation_next\": observation_next,\n",
    "        \"reward\": reward, \"action\": action, \"terminal\": 1 - terminal,\n",
    "        \"env_state\": env_state, 'env_state_next': env_state_next\n",
    "    }"
   ]
  },
  {
   "cell_type": "code",
   "execution_count": 175,
   "id": "f964b371-7b93-4acf-8990-1f4affcc90d0",
   "metadata": {},
   "outputs": [],
   "source": [
    "score_    = jit(partial(score, terminal_reward_fn = None, discount = 0.99))\n",
    "forecast_ = jit(partial(\n",
    "    forecast, \n",
    "    step_fn=world, \n",
    "    horizon=20, \n",
    "    action_dim=1, \n",
    "    minval=-2., \n",
    "    maxval=2.))"
   ]
  },
  {
   "cell_type": "code",
   "execution_count": 176,
   "id": "69793f5a-3caf-4bab-9e67-a621a35e5f04",
   "metadata": {},
   "outputs": [],
   "source": [
    "\"\"\" Entire Loop with scan\"\"\"\n",
    "\n",
    "def one_step(carry, t):\n",
    "    key, (env_state, observation)  = carry\n",
    "    key, subkey = jax.random.split(key)\n",
    "    action = plan(subkey, (env_state, observation), forecast_, score_)[0][0]\n",
    "    env_state_next, observation_next, reward, terminal, info = \\\n",
    "        env.step(env_state, action)\n",
    "    carry = key, (env_state_next, observation_next)\n",
    "    return carry, {\n",
    "        \"observation\": observation,\n",
    "        \"observation_next\": observation_next,\n",
    "        \"reward\": reward, \"action\": action, \"terminal\": 1 - terminal,\n",
    "        \"env_state\": env_state, 'env_state_next': env_state_next\n",
    "    }"
   ]
  },
  {
   "cell_type": "code",
   "execution_count": 232,
   "id": "2bf9acf3-4a39-4446-819c-bce5fc2c0a8d",
   "metadata": {},
   "outputs": [],
   "source": [
    "# Build Value Function\n",
    "vf_def = mlp_deterministic(1, [64, 64], activation='silu', final_tanh_activation=False)\n",
    "vf_def = hk.transform(vf_def)\n",
    "vf_def = hk.without_apply_rng(vf_def)\n",
    "vf_params = vf_def.init(rng, jnp.zeros((3,)))\n",
    "vf_opt = optax.adabelief(learning_rate=1e-3)\n",
    "vf_opt_state = vf_opt.init(vf_params)\n",
    "vf_def = vf_def.apply\n",
    "\n",
    "@chex.dataclass\n",
    "class State:\n",
    "    params: typing.Any\n",
    "    opt_state: typing.Any\n",
    "        \n",
    "state = State(params=vf_params, opt_state=vf_opt_state)\n",
    "\n",
    "# NOTE: This approach would need a target `value_target_params`.\n",
    "@jax.partial(jit, static_argnums=(2,))\n",
    "def loss_value_td0(value_params, batch: dict, value_def):\n",
    "    chex.assert_rank([batch['reward'], batch['discount']], 1)\n",
    "    vf_t = value_def(value_params, batch['observation'])\n",
    "    vf_tp1 = value_def(value_params, batch['observation_next'])\n",
    "    vf_tp1 = jax.lax.stop_gradient(vf_tp1)\n",
    "    target = batch['reward'] + batch['discount'] * vf_tp1\n",
    "    chex.assert_equal_shape([target, vf_t])\n",
    "    loss = rlax.l2_loss(vf_t, target)\n",
    "    return loss\n",
    "\n",
    "@jax.partial(jit, static_argnums=(2,))\n",
    "def loss_value_MC(value_params, batch: dict, value_def):\n",
    "    chex.assert_rank([batch['returns']], 1)\n",
    "    vf_t = value_def(value_params, batch['observation'])\n",
    "    target = batch['returns']\n",
    "    chex.assert_equal_shape([target, vf_t])\n",
    "    loss = rlax.l2_loss(vf_t, target)\n",
    "    return loss\n",
    "\n",
    "@jax.partial(jit, static_argnums=(2, 3))\n",
    "def update(state, batch, loss, optimizer, clip_gradient_norm: float = 5.0):\n",
    "    l, g = value_and_grad(loss)(state.params, batch)\n",
    "    if clip_gradient_norm > 0.0:\n",
    "        g = clip_grads(g, clip_gradient_norm)\n",
    "    u, opt_state = optimizer.update(g, state.opt_state)\n",
    "    p = optax.apply_updates(state.params, u)\n",
    "    state = state.replace(params=p, opt_state=opt_state)\n",
    "    return state, {'loss': l, 'grad_l2norm': l2_norm(g)}\n",
    "\n",
    "loss_ = jit(lambda p, b: vmap(jax.partial(loss_value_MC, value_def=vf_def), (None, 0))(p, b).mean())\n",
    "update_ = jit(jax.partial(update, loss=loss_, optimizer=vf_opt))\n",
    "\n",
    "rb = tax.ReplayBuffer(100_000)"
   ]
  },
  {
   "cell_type": "code",
   "execution_count": 233,
   "id": "b73bd71c-00a9-4d1a-815e-306d8278d6b7",
   "metadata": {},
   "outputs": [],
   "source": [
    "# Loop. Training -> Data -> Fit -> Value"
   ]
  },
  {
   "cell_type": "code",
   "execution_count": 245,
   "id": "49498d61-b853-4820-9cdf-42fdaf420d81",
   "metadata": {},
   "outputs": [],
   "source": [
    "def make_value_inference(p):\n",
    "    return jit(lambda x: vf_def(p, x))"
   ]
  },
  {
   "cell_type": "code",
   "execution_count": 254,
   "id": "fef231eb-257e-460f-a31f-39409a3a284f",
   "metadata": {},
   "outputs": [
    {
     "data": {
      "application/vnd.jupyter.widget-view+json": {
       "model_id": "9eca914cc1f1478dbecc6851827533c5",
       "version_major": 2,
       "version_minor": 0
      },
      "text/plain": [
       "  0%|          | 0/100 [00:00<?, ?it/s]"
      ]
     },
     "metadata": {},
     "output_type": "display_data"
    },
    {
     "name": "stdout",
     "output_type": "stream",
     "text": [
      "mean: -216.74085998535156\n",
      "std: 146.21780395507812\n",
      "Replay size: 80000\n"
     ]
    }
   ],
   "source": [
    "value_inference = make_value_inference(state.params)\n",
    "score_    = jit(partial(score, terminal_reward_fn = value_inference, discount = 0.99))\n",
    "forecast_ = jit(partial(\n",
    "    forecast, \n",
    "    step_fn=world, \n",
    "    horizon=20, \n",
    "    action_dim=1, \n",
    "    minval=-2., \n",
    "    maxval=2.)\n",
    ")\n",
    "\n",
    "def one_step(carry, t):\n",
    "    key, (env_state, observation)  = carry\n",
    "    key, subkey = jax.random.split(key)\n",
    "    action = plan(subkey, (env_state, observation), forecast_, score_)[0][0]\n",
    "    env_state_next, observation_next, reward, terminal, info = \\\n",
    "        env.step(env_state, action)\n",
    "    carry = key, (env_state_next, observation_next)\n",
    "    return carry, {\n",
    "        \"observation\": observation,\n",
    "        \"observation_next\": observation_next,\n",
    "        \"reward\": reward, \"action\": action, \"terminal\": 1 - terminal,\n",
    "        \"env_state\": env_state, 'env_state_next': env_state_next\n",
    "    }\n",
    "\n",
    "\n",
    "data = []\n",
    "all_score = []\n",
    "for _ in tqdm.notebook.trange(100):\n",
    "    rng, subrng = jax.random.split(rng)\n",
    "    env_state, observation = env.reset(subrng)\n",
    "    init = (rng, (env_state, observation))\n",
    "    _, out = jax.lax.scan(one_step, init, jnp.arange(200))\n",
    "    out.update({'returns': tax.discounted_return(out['reward'], 0.99)})\n",
    "    all_score.append(jnp.sum(out['reward']))\n",
    "    data.append(out)\n",
    "all_score = jnp.stack(all_score)\n",
    "score_mean = float(all_score.mean())\n",
    "score_std = float(all_score.std())\n",
    "\n",
    "print(f'mean: {score_mean}')\n",
    "print(f'std: {score_std}')\n",
    "\n",
    "data = tax.reduce(data, jnp.concatenate)\n",
    "\n",
    "rb.add(**data)\n",
    "\n",
    "print(f'Replay size: {len(rb)}')"
   ]
  },
  {
   "cell_type": "code",
   "execution_count": null,
   "id": "cf1c9b3e-0c09-4f7c-9160-c50a12d69740",
   "metadata": {},
   "outputs": [],
   "source": []
  },
  {
   "cell_type": "code",
   "execution_count": 265,
   "id": "f1df13d9-08ba-49f5-8d1d-f90a4f40c43c",
   "metadata": {},
   "outputs": [
    {
     "data": {
      "application/vnd.jupyter.widget-view+json": {
       "model_id": "647fe3ce09e94ed59a6ce064c441b36d",
       "version_major": 2,
       "version_minor": 0
      },
      "text/plain": [
       "  0%|          | 0/10900 [00:00<?, ?it/s]"
      ]
     },
     "metadata": {},
     "output_type": "display_data"
    }
   ],
   "source": [
    "all_metrics = []\n",
    "for _ in tqdm.notebook.trange(10_000):\n",
    "    batch = rb.sample(64)\n",
    "    batch['discount'] = batch['terminal'][..., None] * 0.99\n",
    "    batch['reward'] = batch['reward'][..., None]\n",
    "    batch['returns'] = batch['returns'][..., None]\n",
    "\n",
    "    state, metrics = update_(state, batch)\n",
    "    all_metrics.append(metrics)\n"
   ]
  },
  {
   "cell_type": "code",
   "execution_count": 266,
   "id": "4358dbbc-b1c1-403d-9be8-e00d5c6277c9",
   "metadata": {},
   "outputs": [],
   "source": [
    "all_metrics = tax.reduce(all_metrics, np.stack)"
   ]
  },
  {
   "cell_type": "code",
   "execution_count": 267,
   "id": "05af8fac-3d16-4a7f-ab4b-1006a0685042",
   "metadata": {},
   "outputs": [
    {
     "data": {
      "image/png": "[encoded data removed]",
      "text/plain": [
       "<Figure size 720x216 with 2 Axes>"
      ]
     },
     "metadata": {
      "needs_background": "light"
     },
     "output_type": "display_data"
    }
   ],
   "source": [
    "fig, axes = plt.subplots(nrows=1, ncols=2, figsize=(10, 3))\n",
    "\n",
    "axes[0].plot(smooth(all_metrics['loss']))\n",
    "axes[1].plot(smooth(all_metrics['grad_l2norm']))\n",
    "fig.tight_layout()\n"
   ]
  },
  {
   "cell_type": "code",
   "execution_count": null,
   "id": "5873c95a-efba-4005-b7fa-a82c3bffbef8",
   "metadata": {},
   "outputs": [],
   "source": []
  },
  {
   "cell_type": "code",
   "execution_count": null,
   "id": "c30c39c7-ccab-4cad-85cf-bb1953387632",
   "metadata": {},
   "outputs": [],
   "source": []
  }
 ],
 "metadata": {
  "kernelspec": {
   "display_name": "Python 3",
   "language": "python",
   "name": "python3"
  },
  "language_info": {
   "codemirror_mode": {
    "name": "ipython",
    "version": 3
   },
   "file_extension": ".py",
   "mimetype": "text/x-python",
   "name": "python",
   "nbconvert_exporter": "python",
   "pygments_lexer": "ipython3",
   "version": "3.8.10"
  }
 },
 "nbformat": 4,
 "nbformat_minor": 5
}
