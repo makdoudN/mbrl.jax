{
 "cells": [
  {
   "cell_type": "code",
   "execution_count": 1,
   "id": "fa6e8167-c83a-4388-9e72-a36edd847250",
   "metadata": {},
   "outputs": [],
   "source": [
    "import jax\n",
    "import tax\n",
    "import tqdm\n",
    "import haiku as hk\n",
    "import numpy as np\n",
    "import collections \n",
    "import jax.numpy as jnp\n",
    "import matplotlib as mpl\n",
    "import matplotlib.pyplot as plt\n",
    "import mbrl\n",
    "\n",
    "from jax import jit\n",
    "from functools import partial\n",
    "from deluca.envs.classic._mountain_car import reset, env_params, dynamics, step\n",
    "from deluca.envs.classic._mountain_car import render\n",
    "\n",
    "from mbrl.algs.rs import forecast\n",
    "from mbrl.algs.rs import plan\n",
    "from mbrl.algs.rs import score\n",
    "\n",
    "rng = jax.random.PRNGKey(42)\n",
    "Environment = collections.namedtuple('Environment', ['step', 'reset'])"
   ]
  },
  {
   "cell_type": "code",
   "execution_count": 2,
   "id": "722815e1-03d0-4337-92e5-993e2c6ef8f8",
   "metadata": {},
   "outputs": [],
   "source": [
    "step     = jit(partial(step, env_params=env_params))\n",
    "reset    = jit(partial(reset, env_params=env_params))\n",
    "dynamics = jit(partial(dynamics, env_params=env_params))\n",
    "env      = Environment(step, reset)"
   ]
  },
  {
   "cell_type": "code",
   "execution_count": 3,
   "id": "fc4ac26e-d302-45f2-8eb6-65aa8440eb06",
   "metadata": {},
   "outputs": [],
   "source": [
    "state0 = reset(rng)\n",
    "u = jax.random.uniform(rng, shape=(1,))"
   ]
  },
  {
   "cell_type": "code",
   "execution_count": 4,
   "id": "c4113b96-f98c-41a1-8999-156504787b42",
   "metadata": {},
   "outputs": [
    {
     "data": {
      "text/plain": [
       "DeviceArray([-0.17480217, -0.00152968], dtype=float32)"
      ]
     },
     "execution_count": 4,
     "metadata": {},
     "output_type": "execute_result"
    }
   ],
   "source": [
    "dynamics(state0, u)"
   ]
  },
  {
   "cell_type": "code",
   "execution_count": 5,
   "id": "113710f1-ae8d-4248-a7f7-fa4c710bf75c",
   "metadata": {},
   "outputs": [
    {
     "data": {
      "text/plain": [
       "(DeviceArray([-0.17480217, -0.00152968], dtype=float32),\n",
       " DeviceArray(-0.20355515, dtype=float32),\n",
       " DeviceArray(0., dtype=float32),\n",
       " {})"
      ]
     },
     "execution_count": 5,
     "metadata": {},
     "output_type": "execute_result"
    }
   ],
   "source": [
    "step(state0, u)"
   ]
  },
  {
   "cell_type": "code",
   "execution_count": 6,
   "id": "96f84981-f17b-46c7-b333-5c5a57764318",
   "metadata": {},
   "outputs": [
    {
     "data": {
      "text/plain": [
       "{'min_action': -1.0,\n",
       " 'max_action': 1.0,\n",
       " 'min_position': -1.2,\n",
       " 'max_position': 0.6,\n",
       " 'max_speed': 0.07,\n",
       " 'goal_position': 0.45,\n",
       " 'goal_velocity': 0.0,\n",
       " 'power': 0.0015,\n",
       " 'H': 50,\n",
       " 'action_dim': 1}"
      ]
     },
     "execution_count": 6,
     "metadata": {},
     "output_type": "execute_result"
    }
   ],
   "source": [
    "env_params"
   ]
  },
  {
   "cell_type": "code",
   "execution_count": 7,
   "id": "ff0ae66d-7eeb-4c27-bfa0-8b49a5c2db85",
   "metadata": {},
   "outputs": [],
   "source": [
    "def world(carry, t):\n",
    "    keys, env_state, trajectory = carry\n",
    "    action = trajectory[t]\n",
    "    env_state_next , reward, terminal, info = \\\n",
    "        env.step(env_state, action)\n",
    "    reward = reward.astype('float')\n",
    "    carry = keys, env_state_next, trajectory\n",
    "    return carry, {\n",
    "        \"observation\": env_state,\n",
    "        \"observation_next\": env_state_next,\n",
    "        \"reward\": reward, \"action\": action, \"terminal\": 1 - terminal,\n",
    "        \"env_state\": env_state, 'env_state_next': env_state_next\n",
    "    }"
   ]
  },
  {
   "cell_type": "code",
   "execution_count": 8,
   "id": "abd82308-a53c-4782-8a61-06f9184764b8",
   "metadata": {},
   "outputs": [],
   "source": [
    "forecast_fn = partial(forecast, step_fn=world, horizon=100, minval=-1., maxval=1.0, action_dim=1)\n",
    "score_fn    = partial(score, discount=0.99, terminal_reward_fn=None)"
   ]
  },
  {
   "cell_type": "code",
   "execution_count": 9,
   "id": "2f837a14-698d-40bc-8881-f7fc7c9a6752",
   "metadata": {},
   "outputs": [
    {
     "data": {
      "application/vnd.jupyter.widget-view+json": {
       "model_id": "d2f149c4f1fd41768efd7b931aee9fa2",
       "version_major": 2,
       "version_minor": 0
      },
      "text/plain": [
       "  0%|          | 0/200 [00:00<?, ?it/s]"
      ]
     },
     "metadata": {},
     "output_type": "display_data"
    },
    {
     "name": "stderr",
     "output_type": "stream",
     "text": [
      "/home/nizam/miniconda3/envs/lab/lib/python3.8/site-packages/jax/_src/numpy/lax_numpy.py:5742: UserWarning: Explicitly requested dtype float requested in astype is not available, and will be truncated to dtype float32. To enable more dtypes, set the jax_enable_x64 configuration option or the JAX_ENABLE_X64 shell environment variable. See https://github.com/google/jax#current-gotchas for more.\n",
      "  lax._check_user_dtype_supported(dtype, \"astype\")\n"
     ]
    },
    {
     "name": "stdout",
     "output_type": "stream",
     "text": [
      "Random Score: -15.95876407623291\n",
      "CPU times: user 5.54 s, sys: 289 ms, total: 5.83 s\n",
      "Wall time: 5.48 s\n"
     ]
    }
   ],
   "source": [
    "%%time\n",
    "# RS:Model.\n",
    "score = 0\n",
    "list_states = []\n",
    "env_state = env.reset(rng)\n",
    "for _ in tqdm.notebook.trange(200):\n",
    "    rng, key = jax.random.split(rng)\n",
    "    list_states.append(env_state)\n",
    "    action = plan(key, env_state, forecast_fn, score_fn, population=50_000)[0][0]\n",
    "    env_state, reward, terminal, info = env.step(env_state, action)\n",
    "    score += reward\n",
    "\n",
    "print(f'Random Score: {score}')"
   ]
  },
  {
   "cell_type": "code",
   "execution_count": 10,
   "id": "f54c6656-ea0b-4a13-9000-74f006d1d02e",
   "metadata": {},
   "outputs": [],
   "source": [
    "_, kwargs = render(list_states[0], {})"
   ]
  },
  {
   "cell_type": "code",
   "execution_count": 11,
   "id": "a48175c7-5c38-48c7-9432-1c1578d25f93",
   "metadata": {},
   "outputs": [],
   "source": [
    "for s in list_states:\n",
    "    render(s, kwargs)"
   ]
  },
  {
   "cell_type": "code",
   "execution_count": null,
   "id": "a922c175-b95c-4729-903b-be8b0cef258b",
   "metadata": {},
   "outputs": [],
   "source": []
  }
 ],
 "metadata": {
  "kernelspec": {
   "display_name": "Python 3",
   "language": "python",
   "name": "python3"
  },
  "language_info": {
   "codemirror_mode": {
    "name": "ipython",
    "version": 3
   },
   "file_extension": ".py",
   "mimetype": "text/x-python",
   "name": "python",
   "nbconvert_exporter": "python",
   "pygments_lexer": "ipython3",
   "version": "3.8.10"
  }
 },
 "nbformat": 4,
 "nbformat_minor": 5
}
