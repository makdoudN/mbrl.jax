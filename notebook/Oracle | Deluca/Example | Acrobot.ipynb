{
 "cells": [
  {
   "cell_type": "code",
   "execution_count": 1,
   "id": "e3021d8d-aa88-4c40-897c-8892da6c4d98",
   "metadata": {},
   "outputs": [
    {
     "data": {
      "text/plain": [
       "{'dt': 0.2,\n",
       " 'LINK_LENGTH_1': 1.0,\n",
       " 'LINK_LENGTH_2': 1.0,\n",
       " 'LINK_MASS_1': 1.0,\n",
       " 'LINK_MASS_2': 1.0,\n",
       " 'LINK_COM_POS_1': 0.5,\n",
       " 'LINK_COM_POS_2': 0.5,\n",
       " 'LINK_MOI': 1.0,\n",
       " 'MAX_VEL_1': 12.566370614359172,\n",
       " 'MAX_VEL_2': 28.274333882308138,\n",
       " 'AVAIL_TORQUE': DeviceArray([-1.,  0.,  1.], dtype=float32),\n",
       " 'torque_noise_max': 0.0,\n",
       " 'book_or_nips': 'book',\n",
       " 'action_arrow': None,\n",
       " 'domain_fig': None,\n",
       " 'actions_num': 3,\n",
       " 'action_max': DeviceArray([ 1.      ,  1.      ,  1.      ,  1.      , 12.566371,\n",
       "              28.274334], dtype=float32),\n",
       " 'action_min': DeviceArray([ -1.      ,  -1.      ,  -1.      ,  -1.      , -12.566371,\n",
       "              -28.274334], dtype=float32)}"
      ]
     },
     "execution_count": 1,
     "metadata": {},
     "output_type": "execute_result"
    }
   ],
   "source": [
    "import jax\n",
    "import tax\n",
    "import tqdm\n",
    "import haiku as hk\n",
    "import numpy as np\n",
    "import collections \n",
    "import jax.numpy as jnp\n",
    "import matplotlib as mpl\n",
    "import matplotlib.pyplot as plt\n",
    "import mbrl\n",
    "\n",
    "from jax import jit\n",
    "from functools import partial\n",
    "from deluca.envs.classic._acrobot import reset, env_params, dynamics, step, render\n",
    "from mbrl.algs.rs import forecast\n",
    "from mbrl.algs.rs import plan\n",
    "from mbrl.algs.rs import score\n",
    "\n",
    "rng = jax.random.PRNGKey(42)\n",
    "Environment = collections.namedtuple('Environment', ['step', 'reset'])\n",
    "\n",
    "env_params"
   ]
  },
  {
   "cell_type": "code",
   "execution_count": 2,
   "id": "67fc296d-d90e-40b4-9d7c-68054f897b9b",
   "metadata": {},
   "outputs": [],
   "source": [
    "step     = jit(partial(step, env_params=env_params))\n",
    "reset    = jit(partial(reset, env_params=env_params))\n",
    "dynamics = jit(partial(dynamics, env_params=env_params))\n",
    "env      = Environment(step=step, reset=reset)"
   ]
  },
  {
   "cell_type": "code",
   "execution_count": 3,
   "id": "80e0c0a7-0b9d-41b6-814d-fce1d2d604df",
   "metadata": {},
   "outputs": [],
   "source": [
    "state0 = reset(rng)\n",
    "u = 1      # 0, 1, 2"
   ]
  },
  {
   "cell_type": "code",
   "execution_count": 4,
   "id": "a855f26c-0c08-401b-af2c-e897f84325c6",
   "metadata": {},
   "outputs": [
    {
     "name": "stderr",
     "output_type": "stream",
     "text": [
      "/home/nizam/miniconda3/envs/lab/lib/python3.8/site-packages/jax/_src/numpy/lax_numpy.py:3085: UserWarning: Explicitly requested dtype <class 'numpy.float64'> requested in zeros is not available, and will be truncated to dtype float32. To enable more dtypes, set the jax_enable_x64 configuration option or the JAX_ENABLE_X64 shell environment variable. See https://github.com/google/jax#current-gotchas for more.\n",
      "  lax._check_user_dtype_supported(dtype, \"zeros\")\n"
     ]
    },
    {
     "data": {
      "text/plain": [
       "DeviceArray([-0.01590787,  0.08213443, -0.21250808,  0.18861379], dtype=float32)"
      ]
     },
     "execution_count": 4,
     "metadata": {},
     "output_type": "execute_result"
    }
   ],
   "source": [
    "dynamics(state0, u)"
   ]
  },
  {
   "cell_type": "code",
   "execution_count": 5,
   "id": "5a9617b7-8166-47b1-8218-b8daea839f40",
   "metadata": {},
   "outputs": [
    {
     "data": {
      "text/plain": [
       "(DeviceArray([-0.00265431,  0.04787853, -0.08390957, -0.1455917 ], dtype=float32),\n",
       " DeviceArray([ 0.9999965 , -0.00265431,  0.99885404,  0.04786024,\n",
       "              -0.08390957, -0.1455917 ], dtype=float32),\n",
       " DeviceArray(-1., dtype=float32),\n",
       " DeviceArray(0., dtype=float32),\n",
       " {})"
      ]
     },
     "execution_count": 5,
     "metadata": {},
     "output_type": "execute_result"
    }
   ],
   "source": [
    "step(rng, state0, u)"
   ]
  },
  {
   "cell_type": "code",
   "execution_count": 6,
   "id": "7e3b8e4e-b549-4ec4-8156-4def323ae267",
   "metadata": {},
   "outputs": [],
   "source": [
    "@jit\n",
    "def world(carry, t):\n",
    "    keys, state, trajectory = carry\n",
    "    action = trajectory[t]\n",
    "    rng = keys[t]\n",
    "    state_next, observation_next, reward, done, info = env.step(rng, state, action)\n",
    "    reward = reward.astype(jnp.float32)\n",
    "    carry = keys, state_next, trajectory\n",
    "    return carry, {\n",
    "        \"observation\": state,\n",
    "        \"observation_next\": state_next,\n",
    "        \"reward\": reward, \"action\": action, \"terminal\": 1. - done,\n",
    "    }"
   ]
  },
  {
   "cell_type": "code",
   "execution_count": 7,
   "id": "7a96b99d-86c1-4f67-8533-50347143a00d",
   "metadata": {},
   "outputs": [],
   "source": [
    "score_    = jit(score)\n",
    "forecast_ = partial(forecast, \n",
    "                    step_fn=world, \n",
    "                    horizon=250,\n",
    "                    action_dim=None, \n",
    "                    minval=None, \n",
    "                    maxval=3,     # Number of discrete actions possible\n",
    "                    action_type='discrete')"
   ]
  },
  {
   "cell_type": "code",
   "execution_count": 8,
   "id": "d8c9ebda-93c6-444c-bd73-123c52472836",
   "metadata": {},
   "outputs": [
    {
     "data": {
      "text/plain": [
       "DeviceArray(1, dtype=int32)"
      ]
     },
     "execution_count": 8,
     "metadata": {},
     "output_type": "execute_result"
    }
   ],
   "source": [
    "rng, rng_reset = jax.random.split(rng, 2)\n",
    "state_0 = env.reset(rng_reset)\n",
    "action, _ = plan(rng, state_0, jit(forecast_), jit(score))\n",
    "action[0]"
   ]
  },
  {
   "cell_type": "code",
   "execution_count": 9,
   "id": "f52902a4-7694-43b5-8bc9-abc5476bc26e",
   "metadata": {},
   "outputs": [
    {
     "data": {
      "application/vnd.jupyter.widget-view+json": {
       "model_id": "d7335297242241758102c18907ad9b61",
       "version_major": 2,
       "version_minor": 0
      },
      "text/plain": [
       "  0%|          | 0/200 [00:00<?, ?it/s]"
      ]
     },
     "metadata": {},
     "output_type": "display_data"
    },
    {
     "name": "stdout",
     "output_type": "stream",
     "text": [
      "-172.0\n",
      "CPU times: user 51.5 s, sys: 7.18 s, total: 58.7 s\n",
      "Wall time: 57.2 s\n"
     ]
    }
   ],
   "source": [
    "%%time\n",
    "# RS:Model.\n",
    "score = 0\n",
    "rng, rng_reset = jax.random.split(rng, 2)\n",
    "state = env.reset(rng_reset)\n",
    "list_states = []\n",
    "for _ in tqdm.notebook.trange(200):\n",
    "    rng, rng_plan = jax.random.split(rng, 2)\n",
    "    list_states.append(state)\n",
    "    action = plan(rng_plan, state, forecast_, score_,  population=75000)[0][0]\n",
    "    state, _, reward, terminal, info = env.step(rng_plan, state, action)\n",
    "    score += reward\n",
    "print(score)"
   ]
  },
  {
   "cell_type": "code",
   "execution_count": 10,
   "id": "a8b436e5-d6dc-4a7c-b8b2-cd2181f18afe",
   "metadata": {},
   "outputs": [],
   "source": [
    "_, info = render(list_states[0], {})"
   ]
  },
  {
   "cell_type": "code",
   "execution_count": 11,
   "id": "3a85bc17-a7ab-45e9-a81c-773bab4ad468",
   "metadata": {},
   "outputs": [],
   "source": [
    "for s in list_states:\n",
    "    render(s, info)"
   ]
  },
  {
   "cell_type": "code",
   "execution_count": null,
   "id": "45c3ece5-6d0b-4475-b67e-6a408f7bc8a0",
   "metadata": {},
   "outputs": [],
   "source": []
  }
 ],
 "metadata": {
  "kernelspec": {
   "display_name": "Python 3",
   "language": "python",
   "name": "python3"
  },
  "language_info": {
   "codemirror_mode": {
    "name": "ipython",
    "version": 3
   },
   "file_extension": ".py",
   "mimetype": "text/x-python",
   "name": "python",
   "nbconvert_exporter": "python",
   "pygments_lexer": "ipython3",
   "version": "3.8.10"
  }
 },
 "nbformat": 4,
 "nbformat_minor": 5
}
