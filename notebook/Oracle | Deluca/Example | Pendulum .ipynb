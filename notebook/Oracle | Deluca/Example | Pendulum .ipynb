{
 "cells": [
  {
   "cell_type": "code",
   "execution_count": 1,
   "id": "faadc5c6-5810-4e70-a1d4-81ed3b3784b8",
   "metadata": {},
   "outputs": [],
   "source": [
    "import jax\n",
    "import tax\n",
    "import tqdm\n",
    "import haiku as hk\n",
    "import numpy as np\n",
    "import collections \n",
    "import jax.numpy as jnp\n",
    "import matplotlib as mpl\n",
    "import matplotlib.pyplot as plt\n",
    "import mbrl\n",
    "\n",
    "from jax import jit\n",
    "from functools import partial\n",
    "from deluca.envs.classic._pendulum import step, reset, reward, env_params\n",
    "from deluca.envs.classic._pendulum import render\n",
    "from mbrl.algs.rs import forecast\n",
    "from mbrl.algs.rs import plan\n",
    "from mbrl.algs.rs import score\n",
    "\n",
    "rng = jax.random.PRNGKey(42)\n",
    "Environment = collections.namedtuple('Environment', ['step', 'reset'])"
   ]
  },
  {
   "cell_type": "code",
   "execution_count": 2,
   "id": "c95b3836-8f08-411f-95b8-1423b1c13490",
   "metadata": {},
   "outputs": [],
   "source": [
    "step = jit(partial(step, env_params=env_params))\n",
    "reset = jit(partial(reset, env_params=env_params))\n",
    "env = Environment(step, reset)"
   ]
  },
  {
   "cell_type": "code",
   "execution_count": 3,
   "id": "29998972-6d81-4b64-a943-d2484bdb00ad",
   "metadata": {},
   "outputs": [],
   "source": [
    "state0, observation0 = reset(rng)\n",
    "u = jax.random.uniform(rng, (1,), minval=-2, maxval=2.)"
   ]
  },
  {
   "cell_type": "code",
   "execution_count": 4,
   "id": "277feeba-96f8-469f-92ad-597bb611c2dc",
   "metadata": {},
   "outputs": [
    {
     "data": {
      "text/plain": [
       "(DeviceArray([0.3965062, 1.0385346], dtype=float32),\n",
       " DeviceArray([0.9224159 , 0.38619795, 1.0385346 ], dtype=float32),\n",
       " DeviceArray(-0.18756944, dtype=float32),\n",
       " DeviceArray(False, dtype=bool),\n",
       " {})"
      ]
     },
     "execution_count": 4,
     "metadata": {},
     "output_type": "execute_result"
    }
   ],
   "source": [
    "step(state0, u)"
   ]
  },
  {
   "cell_type": "code",
   "execution_count": 5,
   "id": "8eb3bd1d-163d-48af-ba59-06d6a3d514e3",
   "metadata": {},
   "outputs": [],
   "source": [
    "def world(carry, t):\n",
    "    keys, (env_state, observation), trajectory = carry\n",
    "    action = trajectory[t]\n",
    "    env_state_next, observation_next, reward, terminal, info = \\\n",
    "        env.step(env_state, action)\n",
    "    reward = reward.astype('float')\n",
    "    carry = keys, (env_state_next, observation_next), trajectory\n",
    "    return carry, {\n",
    "        \"observation\": observation,\n",
    "        \"observation_next\": observation_next,\n",
    "        \"reward\": reward, \"action\": action, \"terminal\": 1 - terminal,\n",
    "        \"env_state\": env_state, 'env_state_next': env_state_next\n",
    "    }"
   ]
  },
  {
   "cell_type": "code",
   "execution_count": 6,
   "id": "b0814c9f-8ba3-4619-98f0-e32dfa80e272",
   "metadata": {},
   "outputs": [],
   "source": [
    "forecast_fn = partial(forecast, step_fn=world, horizon=20, minval=-2., maxval=2.0, action_dim=1)\n",
    "score_fn    = partial(score, discount=0.99, terminal_reward_fn=None)"
   ]
  },
  {
   "cell_type": "code",
   "execution_count": null,
   "id": "d0a3e29a-2ef6-41b2-96c1-f31b1b4abbce",
   "metadata": {},
   "outputs": [],
   "source": []
  },
  {
   "cell_type": "code",
   "execution_count": 7,
   "id": "9dd5d695-7fb7-47bc-99df-972f0e18fddb",
   "metadata": {},
   "outputs": [
    {
     "data": {
      "application/vnd.jupyter.widget-view+json": {
       "model_id": "2118139a35c648b0bcf796cf0cf04bc5",
       "version_major": 2,
       "version_minor": 0
      },
      "text/plain": [
       "  0%|          | 0/200 [00:00<?, ?it/s]"
      ]
     },
     "metadata": {},
     "output_type": "display_data"
    },
    {
     "name": "stderr",
     "output_type": "stream",
     "text": [
      "/home/nizam/miniconda3/envs/lab/lib/python3.8/site-packages/jax/_src/numpy/lax_numpy.py:5742: UserWarning: Explicitly requested dtype float requested in astype is not available, and will be truncated to dtype float32. To enable more dtypes, set the jax_enable_x64 configuration option or the JAX_ENABLE_X64 shell environment variable. See https://github.com/google/jax#current-gotchas for more.\n",
      "  lax._check_user_dtype_supported(dtype, \"astype\")\n"
     ]
    },
    {
     "name": "stdout",
     "output_type": "stream",
     "text": [
      "Random Score: -125.24327087402344\n",
      "CPU times: user 1.88 s, sys: 259 ms, total: 2.14 s\n",
      "Wall time: 1.73 s\n"
     ]
    }
   ],
   "source": [
    "%%time\n",
    "# RS:Model.\n",
    "score = 0\n",
    "list_states = []\n",
    "env_state, observation = env.reset(rng)\n",
    "for _ in tqdm.notebook.trange(200):\n",
    "    rng, key = jax.random.split(rng)\n",
    "    list_states.append(env_state)\n",
    "    action = plan(key, (env_state, observation), forecast_fn, score_fn)[0][0]\n",
    "    env_state, observation, reward, terminal, info = env.step(env_state, action)\n",
    "    score += reward\n",
    "\n",
    "print(f'Random Score: {score}')"
   ]
  },
  {
   "cell_type": "code",
   "execution_count": 8,
   "id": "f6a32b1c-f9fb-44cc-8f56-212ee967c8ef",
   "metadata": {},
   "outputs": [],
   "source": [
    "\"\"\" Entire Loop with scan\"\"\"\n",
    "\n",
    "def one_step(carry, t):\n",
    "    key, (env_state, observation)  = carry\n",
    "    key, subkey = jax.random.split(key)\n",
    "    action = plan(subkey, (env_state, observation), forecast_fn, score_fn)[0][0]\n",
    "    env_state_next, observation_next, reward, terminal, info = \\\n",
    "        env.step(env_state, action)\n",
    "    carry = key, (env_state_next, observation_next)\n",
    "    return carry, {\n",
    "        \"observation\": observation,\n",
    "        \"observation_next\": observation_next,\n",
    "        \"reward\": reward, \"action\": action, \"terminal\": 1 - terminal,\n",
    "        \"env_state\": env_state, 'env_state_next': env_state_next\n",
    "    }"
   ]
  },
  {
   "cell_type": "code",
   "execution_count": 9,
   "id": "03cc5687-c2cf-4d66-a0f1-d8273226f1ea",
   "metadata": {},
   "outputs": [
    {
     "name": "stdout",
     "output_type": "stream",
     "text": [
      "CPU times: user 1.15 s, sys: 2.81 ms, total: 1.15 s\n",
      "Wall time: 639 ms\n"
     ]
    },
    {
     "data": {
      "text/plain": [
       "DeviceArray(-243.81517, dtype=float32)"
      ]
     },
     "execution_count": 9,
     "metadata": {},
     "output_type": "execute_result"
    }
   ],
   "source": [
    "%%time\n",
    "env_state, observation = env.reset(rng)\n",
    "init = (rng, (env_state, observation))\n",
    "_, out = jax.lax.scan(one_step, init, jnp.arange(200))\n",
    "jnp.sum(out['reward'])"
   ]
  },
  {
   "cell_type": "code",
   "execution_count": 10,
   "id": "8b60371b-8ac5-468a-aaea-d47f8e3ce595",
   "metadata": {},
   "outputs": [],
   "source": [
    "_, kwargs = render(list_states[0], {})"
   ]
  },
  {
   "cell_type": "code",
   "execution_count": 11,
   "id": "da5119ed-cc53-4d00-b877-ad4b933c0af6",
   "metadata": {},
   "outputs": [],
   "source": [
    "for s in list_states:\n",
    "    render(s, kwargs)"
   ]
  },
  {
   "cell_type": "code",
   "execution_count": null,
   "id": "bb82ddd2-dbd5-4a2c-acaf-97b58ddfe5a9",
   "metadata": {},
   "outputs": [],
   "source": []
  }
 ],
 "metadata": {
  "kernelspec": {
   "display_name": "Python 3",
   "language": "python",
   "name": "python3"
  },
  "language_info": {
   "codemirror_mode": {
    "name": "ipython",
    "version": 3
   },
   "file_extension": ".py",
   "mimetype": "text/x-python",
   "name": "python",
   "nbconvert_exporter": "python",
   "pygments_lexer": "ipython3",
   "version": "3.8.10"
  }
 },
 "nbformat": 4,
 "nbformat_minor": 5
}
