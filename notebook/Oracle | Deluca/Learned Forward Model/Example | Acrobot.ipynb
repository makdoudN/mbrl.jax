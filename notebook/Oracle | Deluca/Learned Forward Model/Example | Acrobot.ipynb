{
 "cells": [
  {
   "cell_type": "code",
   "execution_count": 14,
   "id": "8c7ce804-d552-4770-bd27-498edf3c9690",
   "metadata": {},
   "outputs": [],
   "source": [
    "import os\n",
    "import jax\n",
    "import tax\n",
    "import rlax\n",
    "import tqdm\n",
    "import haiku as hk\n",
    "import numpy as np\n",
    "import collections \n",
    "import jax.numpy as jnp\n",
    "import matplotlib as mpl\n",
    "import matplotlib.pyplot as plt\n",
    "import typing\n",
    "import optax\n",
    "import chex\n",
    "import tree\n",
    "import mbrl\n",
    "\n",
    "from jax import jit\n",
    "from jax import partial\n",
    "from mbrl.envs.oracle._pendulum import env_params, render\n",
    "from mbrl.envs.oracle._pendulum import reset_fn, step_fn\n",
    "from mbrl.envs.oracle._pendulum import reward_fn\n",
    "\n",
    "os.environ['JAX_CHECK_TRACER_LEAKS'] = '1'\n",
    "tax.set_platform('gpu')\n",
    "Environment = collections.namedtuple('Environment', ['step', 'reset']) \n",
    "rng = jax.random.PRNGKey(42)\n",
    "\n",
    "# -- Setup the Environment\n",
    "step_fn = jit(partial(step_fn, env_params=env_params))\n",
    "reset_fn = jit(partial(reset_fn, env_params=env_params))\n",
    "env = Environment(step=step_fn, reset=reset_fn)\n",
    "\n",
    "TARGET_LEARNING = 'observation'"
   ]
  },
  {
   "cell_type": "code",
   "execution_count": 15,
   "id": "df31161a-8189-433a-8254-0dcd0d4fd79a",
   "metadata": {},
   "outputs": [],
   "source": [
    "from train_fmodel import init_fmodel_training"
   ]
  },
  {
   "cell_type": "code",
   "execution_count": 16,
   "id": "f7d83194-3e13-432a-8ce1-cc313e4fe1c6",
   "metadata": {},
   "outputs": [],
   "source": [
    "action_size = env_params.get('action_size')\n",
    "\n",
    "if TARGET_LEARNING == 'observation':\n",
    "    observation_size = len(env.reset(rng)[-1])\n",
    "else:\n",
    "    observation_size = 2\n",
    "\n",
    "rb = tax.ReplayBuffer(100_000)"
   ]
  },
  {
   "cell_type": "markdown",
   "id": "72b0718b-14da-4ed8-801e-14631f9604db",
   "metadata": {},
   "source": [
    "# `Setup` Training Loop"
   ]
  },
  {
   "cell_type": "code",
   "execution_count": 35,
   "id": "b6d655ad-4f02-417c-bfd8-24ed58e90bc6",
   "metadata": {},
   "outputs": [],
   "source": [
    "rng, subrng = jax.random.split(rng)\n",
    "\n",
    "\"\"\"\n",
    "state, fit = init_fmodel_training(\n",
    "    rng, observation_size, action_size, 'D', \n",
    "    {'hidden_sizes': [32, 32], 'final_tanh_activation': False}, \n",
    "    'adabelief', {'learning_rate': 5e-3},\n",
    "    fmodel_training_kwargs={'use_norm': False, 'use_residual': True ,'early_stopping_patience': 50, 'max_epochs': 50}\n",
    ")\n",
    "\"\"\"\n",
    "\n",
    "\n",
    "state, fit = init_fmodel_training(\n",
    "    rng, observation_size, action_size, 'P', \n",
    "    {'hidden_sizes': [32, 32], }, \n",
    "    'adabelief', {'learning_rate': 1e-3},\n",
    "    fmodel_training_kwargs={'use_norm': True, 'use_residual': True ,'early_stopping_patience': 50, 'max_epochs': 500}\n",
    ")\n"
   ]
  },
  {
   "cell_type": "markdown",
   "id": "0ac3105a-0ba5-4a6f-b5cb-a0b0d0b6a81c",
   "metadata": {},
   "source": [
    "# `Initialization` with Random Interaction"
   ]
  },
  {
   "cell_type": "code",
   "execution_count": 36,
   "id": "5280bd1c-c7a5-4d90-be98-c4faa4ffb2c9",
   "metadata": {},
   "outputs": [
    {
     "name": "stdout",
     "output_type": "stream",
     "text": [
      "Random Score: -1767.124267578125\n",
      "Random Score: -1464.91162109375\n",
      "Random Score: -1599.35009765625\n",
      "Random Score: -1697.143310546875\n",
      "Random Score: -1257.904541015625\n",
      "Random Score: -1445.5078125\n",
      "Random Score: -1061.43603515625\n",
      "Random Score: -1064.2076416015625\n",
      "Random Score: -1067.654541015625\n",
      "Random Score: -1072.249267578125\n"
     ]
    }
   ],
   "source": [
    "# TODO: Random Interaction depends of Discrete Environment / Continuous \n",
    "buf = []\n",
    "for _ in range(10):\n",
    "    score = 0\n",
    "    env_state, observation = env.reset(rng)\n",
    "    for _ in range(200):\n",
    "        rng, key = jax.random.split(rng)\n",
    "        action = jax.random.uniform(key, (1,), minval=-2., maxval=2.)\n",
    "        env_state_next, observation_next, reward, terminal, info = env.step(env_state, action)\n",
    "        score += reward\n",
    "        buf.append({\n",
    "            'observation': observation,\n",
    "            'observation_next': observation_next,\n",
    "            'action': action,\n",
    "            #'reward': reward,\n",
    "            'env_state': env_state,\n",
    "            'env_state_next': env_state_next\n",
    "        })\n",
    "        observation = observation_next.copy()\n",
    "        env_state = env_state_next\n",
    "    print(f'Random Score: {score}')\n",
    "    \n",
    "data = tax.reduce(buf)\n",
    "rb.add(**data)\n"
   ]
  },
  {
   "cell_type": "code",
   "execution_count": 37,
   "id": "0b07fca2-e507-4a79-b7fc-aea519ee8ea5",
   "metadata": {},
   "outputs": [
    {
     "name": "stderr",
     "output_type": "stream",
     "text": [
      "100%|██████████| 500/500 [01:24<00:00,  5.92it/s, loss/train=-12.9, loss/valid=-13]  \n"
     ]
    }
   ],
   "source": [
    "data = rb.dataset()\n",
    "buf = {\n",
    "    'observation': data['env_state'],\n",
    "    'observation_next': data['env_state_next'],\n",
    "    'action': data['action']\n",
    "}\n",
    "\n",
    "buf = {\n",
    "    'observation': data['observation'],\n",
    "    'observation_next': data['observation_next'],\n",
    "    'action': data['action']\n",
    "}\n",
    "\n",
    "\n",
    "\n",
    "state, fmodel_inference, info = fit(buf, state)"
   ]
  },
  {
   "cell_type": "code",
   "execution_count": 41,
   "id": "1babfc8a-2dc4-4a1d-aaee-c0f792f99ef2",
   "metadata": {},
   "outputs": [
    {
     "data": {
      "text/plain": [
       "<matplotlib.legend.Legend at 0x7fdf448d0610>"
      ]
     },
     "execution_count": 41,
     "metadata": {},
     "output_type": "execute_result"
    },
    {
     "data": {
      "image/png": "[encoded data removed]",
      "text/plain": [
       "<Figure size 432x288 with 1 Axes>"
      ]
     },
     "metadata": {
      "needs_background": "light"
     },
     "output_type": "display_data"
    }
   ],
   "source": [
    "plt.plot(info['loss/train'], label='training')\n",
    "plt.plot(info['loss/valid'], label='validation')\n",
    "plt.legend()"
   ]
  },
  {
   "cell_type": "code",
   "execution_count": 42,
   "id": "1f96cc53-d171-4767-901a-61e2a98448cf",
   "metadata": {},
   "outputs": [
    {
     "name": "stdout",
     "output_type": "stream",
     "text": [
      "[0.77198863 0.63500005 0.27660456]\n",
      "[0.77210432 0.63549584 0.26341721]\n"
     ]
    }
   ],
   "source": [
    "X = buf['observation'][0]\n",
    "A = buf['action'][0]\n",
    "print(fmodel_inference(rng, X, A))\n",
    "Y = buf['observation_next'][0]\n",
    "print(Y)"
   ]
  },
  {
   "cell_type": "code",
   "execution_count": 43,
   "id": "39be2940-46ce-40c4-9daf-e8bd6c289a62",
   "metadata": {},
   "outputs": [],
   "source": [
    "from mbrl.algs.rs import trajectory_search, forecast, score, plan"
   ]
  },
  {
   "cell_type": "code",
   "execution_count": 44,
   "id": "1b4ca814-97a0-4d32-8cc2-3f673ed8aaea",
   "metadata": {},
   "outputs": [],
   "source": [
    "# NOTE: Terminal=False is not possible\n",
    "# --> partial world with reward and terminal function\n",
    "# --> if not provided set terminal to false.\n",
    "# NOTE: GT Model to compare and anylyse the planning model.\n",
    "# NOTE (%) = The state is ignore.\n",
    "# NOTE = Reward function [observation_next/observation]\n",
    "@jit\n",
    "def world(carry, t):\n",
    "    keys, (state, observation), trajectory = carry\n",
    "    \n",
    "    key = keys[t]\n",
    "    action = trajectory[t]\n",
    "    \n",
    "    # -- Forward Model\n",
    "    observation_next = fmodel_inference(key, observation, action)\n",
    "    reward = reward_fn(observation, action)\n",
    "    # -- Ground Truth (reward/observation from model)\n",
    "    #observation_next, observation_next, reward, terminal, info = env.step(state, action)\n",
    "    \n",
    "    carry = keys, (state, observation_next), trajectory\n",
    "    return carry, {\n",
    "        'key': key,\n",
    "        \"observation\": observation,\n",
    "        \"observation_next\": observation_next,\n",
    "        \"reward\": reward, \n",
    "        \"action\": action, \n",
    "        #\"terminal\": 1. - terminal,\n",
    "        #\"state\": state,\n",
    "        #\"state_next\": state_next,\n",
    "    }"
   ]
  },
  {
   "cell_type": "code",
   "execution_count": 45,
   "id": "12642de4-31ba-45eb-8943-b641dba11280",
   "metadata": {},
   "outputs": [],
   "source": [
    "score_ = partial(score, terminal_reward_fn = None, discount = 0.99)\n",
    "forecast_ = partial(\n",
    "    forecast, \n",
    "    step_fn=world, \n",
    "    horizon=20, \n",
    "    action_type =env_params.get('action_type', 'continuous'),\n",
    "    action_dim=action_size, \n",
    "    minval=env_params.get('action_min'), \n",
    "    maxval=env_params.get('action_max')\n",
    ")\n",
    "\n",
    "\n",
    "policy = partial(plan, forecast=forecast_, score=score_, population=2000)\n",
    "policy = jit(policy)"
   ]
  },
  {
   "cell_type": "code",
   "execution_count": 46,
   "id": "6defd4a4-f1c2-4313-82cf-7f6a5c5ffdbc",
   "metadata": {},
   "outputs": [],
   "source": [
    "x = env.reset(rng)\n",
    "out = forecast_(rng, x)"
   ]
  },
  {
   "cell_type": "code",
   "execution_count": 47,
   "id": "a54c9225-7308-4650-ab97-2d5bb85bc2fa",
   "metadata": {},
   "outputs": [
    {
     "data": {
      "text/plain": [
       "<function haiku._src.data_structures.to_immutable_dict(mapping: Mapping[~K, ~V]) -> Mapping[~K, ~V]>"
      ]
     },
     "execution_count": 47,
     "metadata": {},
     "output_type": "execute_result"
    }
   ],
   "source": [
    "hk.data_structures.to_immutable_dict"
   ]
  },
  {
   "cell_type": "code",
   "execution_count": 48,
   "id": "acd440fe-97e1-4149-ad2c-e5103d3bdee3",
   "metadata": {},
   "outputs": [],
   "source": [
    "\"\"\" Entire Loop with scan\"\"\"\n",
    "\n",
    "@jit\n",
    "def one_step(carry, t):\n",
    "    key, (env_state, observation)  = carry\n",
    "    key, subkey = jax.random.split(key)\n",
    "    action, action_info = policy(subkey, (env_state, observation))\n",
    "    action = action[0]\n",
    "    env_state_next, observation_next, reward, terminal, info = \\\n",
    "        env.step(env_state, action)\n",
    "    carry = key, (env_state_next, observation_next)\n",
    "    return carry, {\n",
    "        \"observation\": observation,\n",
    "        \"observation_next\": observation_next,\n",
    "        \"reward\": reward, \"action\": action, \"terminal\": 1 - terminal,\n",
    "        \"env_state\": env_state, \n",
    "        'env_state_next': env_state_next,\n",
    "        \"action_info\": action_info,\n",
    "    }"
   ]
  },
  {
   "cell_type": "code",
   "execution_count": 49,
   "id": "543ecaae-99eb-4e56-9d39-d90fdd988bf9",
   "metadata": {},
   "outputs": [
    {
     "name": "stdout",
     "output_type": "stream",
     "text": [
      "-120.83589\n",
      "-243.69693\n",
      "-119.84743\n",
      "-126.11625\n",
      "-359.26944\n",
      "-124.13426\n",
      "-125.82528\n",
      "-0.7477482\n",
      "-125.43945\n",
      "-126.00394\n",
      "CPU times: user 2.99 s, sys: 33.8 ms, total: 3.03 s\n",
      "Wall time: 2.4 s\n"
     ]
    }
   ],
   "source": [
    "%%time\n",
    "for _ in range(10):\n",
    "    rng, subrng = jax.random.split(rng)\n",
    "    env_state, observation = env.reset(subrng)\n",
    "    init = (rng, (env_state, observation))\n",
    "    _, out = jax.lax.scan(one_step, init, jnp.arange(200))\n",
    "    print(jnp.sum(out['reward']))\n",
    "    action = out['action']\n",
    "    env_state = out['env_state']\n",
    "    env_state_next = out['env_state_next']\n",
    "    \n",
    "    rb.add(action=action, env_state=env_state, env_state_next=env_state_next)"
   ]
  }
 ],
 "metadata": {
  "kernelspec": {
   "display_name": "Python 3",
   "language": "python",
   "name": "python3"
  },
  "language_info": {
   "codemirror_mode": {
    "name": "ipython",
    "version": 3
   },
   "file_extension": ".py",
   "mimetype": "text/x-python",
   "name": "python",
   "nbconvert_exporter": "python",
   "pygments_lexer": "ipython3",
   "version": "3.8.10"
  }
 },
 "nbformat": 4,
 "nbformat_minor": 5
}
