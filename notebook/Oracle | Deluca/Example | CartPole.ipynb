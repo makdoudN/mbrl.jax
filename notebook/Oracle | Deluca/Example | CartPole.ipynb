{
 "cells": [
  {
   "cell_type": "code",
   "execution_count": 1,
   "id": "63993ebd-01d1-4c99-807c-ceb5dc59803d",
   "metadata": {},
   "outputs": [],
   "source": [
    "import jax\n",
    "import tax\n",
    "import tqdm\n",
    "import haiku as hk\n",
    "import numpy as np\n",
    "import collections \n",
    "import jax.numpy as jnp\n",
    "import matplotlib as mpl\n",
    "import matplotlib.pyplot as plt\n",
    "import mbrl\n",
    "\n",
    "from jax import jit\n",
    "from functools import partial\n",
    "from deluca.envs.classic._cartpole import reset, env_params, dynamics, step, render\n",
    "from deluca.envs.classic._cartpole import reward_fn\n",
    "from mbrl.algs.rs import forecast\n",
    "from mbrl.algs.rs import plan\n",
    "from mbrl.algs.rs import score\n",
    "\n",
    "rng = jax.random.PRNGKey(42)\n",
    "Environment = collections.namedtuple('Environment', ['step', 'reset'])"
   ]
  },
  {
   "cell_type": "code",
   "execution_count": 2,
   "id": "c1667fbc-7b62-4770-a338-344600814575",
   "metadata": {},
   "outputs": [],
   "source": [
    "step     = jit(partial(step, env_params=env_params))\n",
    "reset    = jit(partial(reset, env_params=env_params))\n",
    "dynamics = jit(partial(dynamics, env_params=env_params))\n",
    "env      = Environment(step=step, reset=reset)"
   ]
  },
  {
   "cell_type": "code",
   "execution_count": 3,
   "id": "fa4e8929-f372-45ce-840b-2b8205853add",
   "metadata": {},
   "outputs": [],
   "source": [
    "action_size = 1\n",
    "observation_size = env_params['state_size']"
   ]
  },
  {
   "cell_type": "code",
   "execution_count": 4,
   "id": "a43f8fbe-d874-4389-b9cc-80f0f766abfe",
   "metadata": {},
   "outputs": [],
   "source": [
    "rng, rng_reset = jax.random.split(rng, 2)\n",
    "state  = env.reset(rng_reset)\n",
    "state_next, reward, done, info = env.step(state, 1)"
   ]
  },
  {
   "cell_type": "code",
   "execution_count": 5,
   "id": "522a4c4f-ff04-48ae-8b50-032d06082c4e",
   "metadata": {},
   "outputs": [],
   "source": [
    "@jit\n",
    "def world(carry, t):\n",
    "    keys, state, trajectory = carry\n",
    "    action = trajectory[t]\n",
    "    state_next, reward, done, info = env.step(state, action)\n",
    "    reward = reward.astype(jnp.float32)\n",
    "    carry = keys, state_next, trajectory\n",
    "    return carry, {\n",
    "        \"observation\": state,\n",
    "        \"observation_next\": state_next,\n",
    "        \"reward\": reward, \"action\": action, \"terminal\": 1. - done,\n",
    "    }"
   ]
  },
  {
   "cell_type": "code",
   "execution_count": 6,
   "id": "af9f16dd-3299-4c9f-b6ad-b812cef643b5",
   "metadata": {},
   "outputs": [],
   "source": [
    "score_    = jit(score)\n",
    "forecast_ = partial(forecast, \n",
    "                    step_fn=world, \n",
    "                    horizon=20, \n",
    "                    action_dim=None, \n",
    "                    minval=None, \n",
    "                    maxval=2,     # Number of discrete actions possible\n",
    "                    action_type='discrete')"
   ]
  },
  {
   "cell_type": "code",
   "execution_count": 7,
   "id": "fddc1d5e-7bff-45eb-8b41-a885631aff54",
   "metadata": {},
   "outputs": [
    {
     "data": {
      "text/plain": [
       "DeviceArray(1, dtype=int32)"
      ]
     },
     "execution_count": 7,
     "metadata": {},
     "output_type": "execute_result"
    }
   ],
   "source": [
    "rng, rng_reset = jax.random.split(rng, 2)\n",
    "state_0 = env.reset(rng_reset)\n",
    "action, _ = plan(rng, state_0, jit(forecast_), jit(score))\n",
    "action[0]"
   ]
  },
  {
   "cell_type": "code",
   "execution_count": 8,
   "id": "5a9e1c99-2664-4ca9-b078-83429b27ab74",
   "metadata": {},
   "outputs": [
    {
     "data": {
      "application/vnd.jupyter.widget-view+json": {
       "model_id": "2e170a706f644d68b29fd31a26a5544a",
       "version_major": 2,
       "version_minor": 0
      },
      "text/plain": [
       "  0%|          | 0/200 [00:00<?, ?it/s]"
      ]
     },
     "metadata": {},
     "output_type": "display_data"
    },
    {
     "name": "stdout",
     "output_type": "stream",
     "text": [
      "179.0\n",
      "CPU times: user 1.56 s, sys: 99.5 ms, total: 1.66 s\n",
      "Wall time: 863 ms\n"
     ]
    }
   ],
   "source": [
    "%%time\n",
    "# RS:Model.\n",
    "score = 0\n",
    "rng, rng_reset = jax.random.split(rng, 2)\n",
    "state = env.reset(rng_reset)\n",
    "list_states = []\n",
    "for _ in tqdm.notebook.trange(200):\n",
    "    rng, rng_plan = jax.random.split(rng, 2)\n",
    "    list_states.append(state)\n",
    "    action = plan(rng_plan, state, forecast_, score_)[0][0]\n",
    "    state, reward, terminal, info = env.step(state, action)\n",
    "    score += reward\n",
    "print(score)"
   ]
  },
  {
   "cell_type": "code",
   "execution_count": 9,
   "id": "aac4a1e9-c845-4887-865a-d65c18f00a7f",
   "metadata": {},
   "outputs": [],
   "source": [
    "_, info = render(list_states[0])"
   ]
  },
  {
   "cell_type": "code",
   "execution_count": 10,
   "id": "575c58a2-eeca-4178-abf0-4499a9ef9ced",
   "metadata": {},
   "outputs": [],
   "source": [
    "for s in list_states:\n",
    "    render(s, **info)"
   ]
  },
  {
   "cell_type": "code",
   "execution_count": null,
   "id": "7f2efb5b-3b52-4053-b3e1-48127e845af1",
   "metadata": {},
   "outputs": [],
   "source": []
  }
 ],
 "metadata": {
  "kernelspec": {
   "display_name": "Python 3",
   "language": "python",
   "name": "python3"
  },
  "language_info": {
   "codemirror_mode": {
    "name": "ipython",
    "version": 3
   },
   "file_extension": ".py",
   "mimetype": "text/x-python",
   "name": "python",
   "nbconvert_exporter": "python",
   "pygments_lexer": "ipython3",
   "version": "3.8.10"
  }
 },
 "nbformat": 4,
 "nbformat_minor": 5
}
