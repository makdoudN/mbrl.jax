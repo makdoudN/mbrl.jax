{
 "cells": [
  {
   "cell_type": "code",
   "execution_count": 1,
   "id": "2cd7dd03-3342-4456-8cf4-53116bb74241",
   "metadata": {},
   "outputs": [
    {
     "name": "stderr",
     "output_type": "stream",
     "text": [
      "/home/nizam/miniconda3/envs/lab/lib/python3.8/site-packages/gym/logger.py:30: UserWarning: \u001b[33mWARN: Box bound precision lowered by casting to float32\u001b[0m\n",
      "  warnings.warn(colorize('%s: %s'%('WARN', msg % args), 'yellow'))\n"
     ]
    }
   ],
   "source": [
    "import jax\n",
    "import tax\n",
    "import tqdm\n",
    "import tree\n",
    "import haiku as hk\n",
    "import numpy as np\n",
    "import collections \n",
    "import jax.numpy as jnp\n",
    "import matplotlib as mpl\n",
    "import matplotlib.pyplot as plt\n",
    "import mbrl\n",
    "import deluca \n",
    "\n",
    "from jax import jit\n",
    "from functools import partial\n",
    "from deluca.envs import CartPole\n",
    "from mbrl.algs.rs import trajectory_search, forecast, score, plan\n",
    "\n",
    "key = jax.random.PRNGKey(42)\n",
    "\n",
    "\n",
    "def filter_env_params(x):\n",
    "    x = x.copy()\n",
    "    if 'random' in x:\n",
    "        x.pop('random')\n",
    "    if 'state' in x:\n",
    "        x.pop('state')\n",
    "    x['kinematics_integrator'] = 'euler'\n",
    "    T = collections.namedtuple('T', x.keys())\n",
    "    return T(**x)\n",
    "    \n",
    "\n",
    "\n",
    "@partial(jit, static_argnums=(3,))\n",
    "def cartpole_rw(state, action, state_next, env_params):\n",
    "    x, x_dot, theta, theta_dot = state_next\n",
    "\n",
    "    done = jax.lax.cond(\n",
    "        (jnp.abs(x) > jnp.abs(env_params.x_threshold))\n",
    "        + (jnp.abs(theta) > jnp.abs(env_params.theta_threshold_radians)),\n",
    "        lambda done: True,\n",
    "        lambda done: False,\n",
    "        None,\n",
    "    )\n",
    "\n",
    "    reward = 1 - done\n",
    "    return reward\n",
    "    \n",
    "\n",
    "@partial(jit, static_argnums=(2,))\n",
    "def cartpole_dy(state, action, env_params):\n",
    "    return CartPole.dynamics(env_params, state, action)\n"
   ]
  },
  {
   "cell_type": "code",
   "execution_count": 2,
   "id": "da714bea-49fa-4b7d-997d-0e6cab0cdde5",
   "metadata": {},
   "outputs": [],
   "source": [
    "env = CartPole()\n",
    "\n",
    "\n",
    "action_size = 1\n",
    "observation_size = env.observation_space.shape[0]\n",
    "env_params = filter_env_params(env.__dict__['attrs_'])\n",
    "\n",
    "cartpole_reward_fn = partial(cartpole_rw, env_params=env_params)\n",
    "cartpole_dynamics  = partial(cartpole_dy, env_params=env_params) "
   ]
  },
  {
   "cell_type": "code",
   "execution_count": 3,
   "id": "e343a0c9-475c-4ac8-8c94-0d047119ea6d",
   "metadata": {},
   "outputs": [],
   "source": [
    "state  = env.reset()\n",
    "state_next, reward, done, info = env.step(1)"
   ]
  },
  {
   "cell_type": "code",
   "execution_count": 4,
   "id": "16278b54-57c1-434a-a4b0-34c857cac836",
   "metadata": {},
   "outputs": [
    {
     "name": "stdout",
     "output_type": "stream",
     "text": [
      "Reward: 1:1\n",
      "State: [ 0.04598246  0.16744456  0.01289576 -0.30881795]:[ 0.04598246  0.16744456  0.01289576 -0.30881795]\n",
      "State: [ 0.04598246  0.16744456  0.01289576 -0.30881795]:[ 0.04598246  0.16744456  0.01289576 -0.30881795]\n"
     ]
    }
   ],
   "source": [
    "# Sanity Check\n",
    "action = 1 \n",
    "\n",
    "# -- Reward Function.\n",
    "rw = cartpole_reward_fn(state, action, state_next)\n",
    "print(f'Reward: {reward}:{rw}')\n",
    "# -- Dynamics Function\n",
    "state_next_model = cartpole_dy(state, action, env_params)\n",
    "print(f'State: {state_next}:{state_next_model}')\n",
    "\n",
    "state_next_model = cartpole_dynamics(state, action)\n",
    "print(f'State: {state_next}:{state_next_model}')\n"
   ]
  },
  {
   "cell_type": "code",
   "execution_count": 11,
   "id": "d3e4cc29-fddf-4ba4-beea-6f6d8def3e56",
   "metadata": {},
   "outputs": [],
   "source": [
    "@jit\n",
    "def world(carry, t):\n",
    "    keys, state, trajectory = carry\n",
    "    action = trajectory[t]\n",
    "    state_next = cartpole_dynamics(state, action)\n",
    "    reward = cartpole_reward_fn(state, action, state_next).astype('float')\n",
    "    carry = keys, state_next, trajectory\n",
    "    return carry, {\n",
    "        \"observation\": state,\n",
    "        \"observation_next\": state_next,\n",
    "        \"reward\": reward, \"action\": action, \"terminal\": 1 - int(False),\n",
    "    }"
   ]
  },
  {
   "cell_type": "code",
   "execution_count": 12,
   "id": "04fa9ab8-7482-4174-976d-00871715608b",
   "metadata": {},
   "outputs": [],
   "source": [
    "score_    = jit(score)\n",
    "forecast_ = partial(forecast, \n",
    "                    step_fn=world, \n",
    "                    horizon=20, \n",
    "                    action_dim=None, \n",
    "                    minval=None, \n",
    "                    maxval=2,\n",
    "                    action_type='discrete')"
   ]
  },
  {
   "cell_type": "code",
   "execution_count": 15,
   "id": "fbf4f068-4407-4f0f-a473-d9ad55139617",
   "metadata": {},
   "outputs": [
    {
     "data": {
      "text/plain": [
       "DeviceArray(0, dtype=int32)"
      ]
     },
     "execution_count": 15,
     "metadata": {},
     "output_type": "execute_result"
    }
   ],
   "source": [
    "state_0 = env.reset()\n",
    "action, _ = plan(key, state_0, forecast_, score_)\n",
    "action[0]"
   ]
  },
  {
   "cell_type": "code",
   "execution_count": 21,
   "id": "e9edbffa-8a3c-4068-9eba-8dce5e192d1c",
   "metadata": {},
   "outputs": [
    {
     "data": {
      "application/vnd.jupyter.widget-view+json": {
       "model_id": "7ed5c44319ef46bd9250646126ef0c66",
       "version_major": 2,
       "version_minor": 0
      },
      "text/plain": [
       "  0%|          | 0/200 [00:00<?, ?it/s]"
      ]
     },
     "metadata": {},
     "output_type": "display_data"
    },
    {
     "name": "stdout",
     "output_type": "stream",
     "text": [
      "200\n",
      "CPU times: user 4.37 s, sys: 345 ms, total: 4.71 s\n",
      "Wall time: 3.71 s\n"
     ]
    }
   ],
   "source": [
    "%%time\n",
    "# RS:Model.\n",
    "score = 0\n",
    "state = env.reset()\n",
    "for _ in tqdm.notebook.trange(200):\n",
    "    key, subkey = jax.random.split(key)\n",
    "    action = plan(key, state, forecast_, score_)[0][0]\n",
    "    state, reward, terminal, info = env.step(action)\n",
    "    score += reward\n",
    "print(score)"
   ]
  },
  {
   "cell_type": "code",
   "execution_count": null,
   "id": "e12e5c03-53aa-4340-9f6e-82abaea26622",
   "metadata": {},
   "outputs": [],
   "source": []
  }
 ],
 "metadata": {
  "kernelspec": {
   "display_name": "Python 3",
   "language": "python",
   "name": "python3"
  },
  "language_info": {
   "codemirror_mode": {
    "name": "ipython",
    "version": 3
   },
   "file_extension": ".py",
   "mimetype": "text/x-python",
   "name": "python",
   "nbconvert_exporter": "python",
   "pygments_lexer": "ipython3",
   "version": "3.8.10"
  }
 },
 "nbformat": 4,
 "nbformat_minor": 5
}
